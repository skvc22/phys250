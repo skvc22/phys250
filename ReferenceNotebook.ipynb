{
 "cells": [
  {
   "cell_type": "code",
   "execution_count": null,
   "id": "350d5b52-658c-43fe-a9c9-d76da6d2faf4",
   "metadata": {},
   "outputs": [],
   "source": [
    "#INITIALIZATION\n",
    "\n",
    "import numpy as np\n",
    "import matplotlib.pyplot as plt\n",
    "import scipy.interpolate as interp\n",
    "import scipy.optimize as opt\n",
    "import matplotlib as mpl\n",
    "import scipy.special as sf\n",
    "import scipy.integrate as integ\n",
    "mpl.rc('xtick', direction='in', top=True)\n",
    "mpl.rc('ytick', direction='in', right=True)\n",
    "mpl.rc('xtick.minor', visible=True)\n",
    "mpl.rc('ytick.minor', visible=True)\n",
    "\n",
    "#if using random numbers\n",
    "rng = np.random.default_rng()"
   ]
  },
  {
   "cell_type": "code",
   "execution_count": null,
   "id": "e9c012d1-6010-4ed1-9f36-73cf1102d5ab",
   "metadata": {
    "jupyter": {
     "source_hidden": true
    }
   },
   "outputs": [],
   "source": [
    "#PLOTTING\n",
    "import matplotlib.pyplot as plt\n",
    "\n",
    "fig = plt.figure()\n",
    "ax = fig.add_subplot(111)\n",
    "\n",
    "#some important functions\n",
    "ax1.plot(x, y, ls='-', lw=3, c='b', label='label')\n",
    "ax1.set_ylabel('Y label')\n",
    "ax1.set_xlabel('X label')\n",
    "ax1.set_title('Title')\n",
    "ax1.axhline()\n",
    "ax1.legend()"
   ]
  },
  {
   "cell_type": "code",
   "execution_count": null,
   "id": "4ae568ee-a7e4-4469-8a71-52c839429059",
   "metadata": {
    "jupyter": {
     "source_hidden": true
    }
   },
   "outputs": [],
   "source": [
    "#DOCUMENTING A FUNCTION\n",
    "\n",
    "#example\n",
    "\"\"\"\n",
    "    Returns differential equation of baseball motion from *Numerical Modeling of Baseball Pitching.*\n",
    "    Intended for evaluation using scipy.integrate.solve_ivp.\n",
    "    Parameters:\n",
    "        t: scalar: time at which to evaluate differential equation\n",
    "        y: vector: Contains [x, y, z, vx, vy, vz], the x, y, and z position (m) and x-, y-, and z-component of velocity (m/s)\n",
    "        omegavec: vector: Three-component array of angular velocity in x, y, and z directions, respectively (rad/sec)\n",
    "        vd: scalar: Parameter in differential equation (m/s)\n",
    "        delta: scalar: Parameter in differential equation (m/s)\n",
    "        f: scalar: Parameter in differential equation (m^{-1})\n",
    "        B: scalar: Parameter in differential equation (rad^{-1})\n",
    "    Returns:\n",
    "        dydt: vector: Time derivative of each element of y, in the same order as presented.\n",
    "    \"\"\""
   ]
  },
  {
   "cell_type": "code",
   "execution_count": null,
   "id": "c8355bb5-a4ae-47f1-88ff-ab23dfa50865",
   "metadata": {
    "jupyter": {
     "source_hidden": true
    }
   },
   "outputs": [],
   "source": [
    "#ROOT FINDING\n",
    "import scipy.optimize as opt\n",
    "\n",
    "#def the function\n",
    "def func_1(x):\n",
    "    return 3**(-x)-x\n",
    "\n",
    "#finding the roots using bisect\n",
    "print('Bisect:')\n",
    "(root_1_bisect, info_1_bisect) = opt.bisect(func_1, 0.1, 1, full_output=True, xtol=1e-14) #here, 0.1 and 1 are our a and b in bracketing\n",
    "print('Function 1 Root:', root_1_bisect, 'Iterations:', info_1_bisect.iterations)\n",
    "\n",
    "#finding the roots using brentq\n",
    "print('Brentq:')\n",
    "(root_1_brentq, info_1_brentq) = opt.brentq(func_1, 0.1, 1, full_output=True, xtol=1e-14)\n",
    "print('Function 1 Root:', root_1_brentq, 'Iterations:', info_1_brentq.iterations)"
   ]
  },
  {
   "cell_type": "code",
   "execution_count": null,
   "id": "dd236612-a94d-4bb3-a464-1c362c9c4aa8",
   "metadata": {
    "jupyter": {
     "source_hidden": true
    }
   },
   "outputs": [],
   "source": [
    "#INTERPOLATION\n",
    "\n",
    "#making splines\n",
    "posInterpolation = interp.make_interp_spline(time, position)\n",
    "\n",
    "#calculating derivatives with splines (here at t=2.2)\n",
    "print('Evaluating the Function:', posInterpolation(2.2, nu=0))\n",
    "print('First Derivative:', posInterpolation(2.2, nu=1))\n",
    "print('Second Derivative:', posInterpolation(2.2, nu=2))\n",
    "print('Third Derivative:', posInterpolation(2.2, nu=3))\n",
    "print('Fourth Derivative:', posInterpolation(2.2, nu=4))"
   ]
  },
  {
   "cell_type": "code",
   "execution_count": null,
   "id": "639f582c-7c88-4bff-a78a-af4f02083384",
   "metadata": {
    "jupyter": {
     "source_hidden": true
    }
   },
   "outputs": [],
   "source": [
    "#NUMERICAL DERIVATIVES\n",
    "\n",
    "#Richardson Extrapolation\n",
    "#center differencing:\n",
    "def richardson_center (f, z, h, nsteps, args=()):\n",
    "    \"\"\"Evaluate the first derivative of a function at z, that is f'(z),\n",
    "    using Richardson extrapolation and center differencing.\n",
    "\n",
    "    Returned is the full table of approximations, Fij for j <= i. The\n",
    "    values of Fij for j > i are set to zero. The final value F[-1,-1]\n",
    "    should be the most accurate estimate.\n",
    "\n",
    "    Parameters\n",
    "    ----------\n",
    "    f : function\n",
    "        Vectorized Python function.\n",
    "        This is the function for which we are estimating the derivative.\n",
    "    z : number\n",
    "        Value at which to evaluate the derivative.\n",
    "    h : number\n",
    "        Initial stepsize.\n",
    "    nsteps : integer\n",
    "        Number of steps to perform.\n",
    "    args : tuple, optional\n",
    "        extra arguments to pass to the function, f.\n",
    "    \"\"\"\n",
    "    # Extra check to allow for args=(1) to be handled properly. This is a\n",
    "    # technical detail that you do not need to worry about.\n",
    "    if not isinstance(args, (tuple, list, np.ndarray)):\n",
    "        args = (args,)\n",
    "    # Create a zero filled table for our estimates\n",
    "    F = np.zeros((nsteps, nsteps))\n",
    "    # First column of F is the center differencing estimate.\n",
    "    # We can fill this without a loop!\n",
    "    harr = h / 2.**np.arange(nsteps)\n",
    "    F[:,0] = (f(z+harr, *args) - f(z-harr, *args)) / (2.*harr)\n",
    "    # Now iterate, unfortunately we do need one loop. We could\n",
    "    # get rid of the inner loop but the algorithm is a little easier to\n",
    "    # understand if we do not.\n",
    "    for i in range(1, nsteps):\n",
    "        fact = 0.25\n",
    "        for j in range(1, i+1):\n",
    "            F[i,j] = F[i-1,j-1] - (F[i-1,j-1] - F[i,j-1])/ (1-fact)\n",
    "            fact *= 0.25\n",
    "    return F\n",
    "\n",
    "#forward differencing:\n",
    "def richardson_forward (f, z, h, nsteps, args=()):\n",
    "    \"\"\"Evaluate the first derivative of a function at z, that is f'(z),\n",
    "    using Richardson extrapolation and forward differencing.\n",
    "\n",
    "    Returned is the full table of approximations, Fij for j <= i. The\n",
    "    values of Fij for j > i are set to zero. The final value F[-1,-1]\n",
    "    should be the most accurate estimate.\n",
    "\n",
    "    Parameters\n",
    "    ----------\n",
    "    f : function\n",
    "        Vectorized Python function.\n",
    "        This is the function for which we are estimating the derivative.\n",
    "    z : number\n",
    "        Value at which to evaluate the derivative.\n",
    "    h : number\n",
    "        Initial stepsize.\n",
    "    nsteps : integer\n",
    "        Number of steps to perform.\n",
    "    args : tuple, optional\n",
    "        extra arguments to pass to the function, f.\n",
    "    \"\"\"\n",
    "\n",
    "    # Create a zero filled table for our estimates\n",
    "    F_forward = np.zeros((nsteps, nsteps))\n",
    "    # First column of F is the forward differencing estimate.\n",
    "    # We can fill this without a loop!\n",
    "    harr_forward = h / 2.**np.arange(nsteps)\n",
    "    F_forward[:,0] = (f(z+harr_forward, *args)-f(z, *args))/ harr_forward\n",
    "    # Now iterate, unfortunately we do need one loop. We could\n",
    "    # get rid of the inner loop but the algorithm is a little easier to\n",
    "    # understand if we do not.\n",
    "    for i in range(1, nsteps):\n",
    "        fact_forward = 0.5\n",
    "        for j in range(1, i+1):\n",
    "            F_forward[i,j] = F_forward[i-1,j-1] - (F_forward[i-1,j-1] - F_forward[i,j-1])/ (1-fact_forward)\n",
    "            fact_forward *= 0.5\n",
    "    return F_forward\n",
    "\n",
    "#implementation:\n",
    "\n",
    "forward_der = richardson_forward(np.cos, 1.7, 0.1, 4) # where cos(x) is the function you're finding the derivative of,\n",
    "#and the numbers are x, step size (h), and number of steps\n",
    "center_der = richardson_center(np.cos, 1.7, 0.1, 4)\n",
    "\n"
   ]
  },
  {
   "cell_type": "markdown",
   "id": "0fa12704-b18c-45fe-a0f4-58ff7e45f964",
   "metadata": {
    "jupyter": {
     "source_hidden": true
    }
   },
   "source": [
    "NUMERICAL DERIVATIVE FORMULAS\n",
    "\n",
    "Forward Differencing:\n",
    "\n",
    "$$f'(x_0) = \\frac{f(x_0 + h) - f(x_0)}{h} + \\mathcal{O}(h) + \\cdots .$$\n",
    "\n",
    "Richardson Extrapolation:\n",
    "- First Derivative:\n",
    "\n",
    "$$ F_1(h) = \\frac{f(x_0 + h) - f(x_0)}{h} = a_1 + \\alpha_1 h + \\mathcal{O}(h^2) .$$\n",
    "\n",
    "- Second Step (with q=2):\n",
    "\n",
    "$$ F_1(h/q) = \\frac{f(x_0 + h/q) - f(x_0)}{h/q} = a_1 + \\alpha_1 h/q + \\mathcal{O}((h/q)^2) .$$"
   ]
  },
  {
   "cell_type": "code",
   "execution_count": null,
   "id": "f5458e3c-9ddd-4823-aef8-272d7e2befaf",
   "metadata": {
    "jupyter": {
     "source_hidden": true
    }
   },
   "outputs": [],
   "source": [
    "#NUMERICAL INTEGRATION\n",
    "import scipy.integrate as integ\n",
    "\n",
    "#Romberg Integration\n",
    "romb_int = integ.romb(int_func, dx=x/1024) #where x is the upper bound of integral (assuming lower is 0), \n",
    "#and 1024 is (# of points to evaluate at) - 1\n",
    "\n",
    "#Quad Integration (quad is goated)\n",
    "quad_int, quad_err, quad_info = integ.quad(int_func, 0, 58, full_output=True) #where 0 and 58 are the bounds of the integral\n",
    "\n",
    "#Quad Vec\n",
    "quad_vec_int = integ.quad_vec(int_func, 0, np.pi/2, args=(additional_args,))[0] #where 0 and np.pi/2 are the bounds of the integral, \n",
    "#and args must be written with a comma"
   ]
  },
  {
   "cell_type": "code",
   "execution_count": null,
   "id": "80390fa1-79c0-4b89-8fde-7d7e2d99ce6b",
   "metadata": {
    "jupyter": {
     "source_hidden": true
    }
   },
   "outputs": [],
   "source": [
    "#ODE\n",
    "\n",
    "#Initial Value Problems:\n",
    "'''\n",
    "    First need a first order system given by a function\n",
    "    The function needs to take in a time value and a vector y=[x,a,b,c]\n",
    "    It then needs to return the derivative of each element in a vector dydt such that dydt[0]=dx/dt=a=y[1], dydt[1]=da/dt=b=y[2], etc\n",
    "    So it needs to calculate each element of dydt\n",
    "    '''\n",
    "solution = integ.solve_ivp(function, [1e-8, 5], init_conds, dense_output=True, vectorized=True, atol=1e-12, rtol=1e-12)\n",
    "'''where [1e-8, 5] are just values of t you pick to solve across, and\n",
    "    init_conds is a vector of all the initial conditions you need (for example, init_conds=[1,0] for dy_dt[0] and dy_dt[1])'''\n",
    "\n",
    "#can also include events=function when you call the function (see PreLab05 or Lab05)\n",
    "#where that function returns y[0]\n",
    "np.min(solution.t_events[0])) #value of t for which the function is 0"
   ]
  },
  {
   "cell_type": "code",
   "execution_count": null,
   "id": "1a1bfabd-5ce5-4523-9610-096126110ddc",
   "metadata": {
    "jupyter": {
     "source_hidden": true
    }
   },
   "outputs": [],
   "source": [
    "#OTHER NOTES (mostly math functions)\n",
    "\n",
    "#fractional error calculation\n",
    "frac_error = np.abs(1-(numerical_value/true_value))\n",
    "\n",
    "#infinity\n",
    "np.inf\n",
    "\n",
    "#use np.arctan2(), not np.arctan()\n",
    "np.arctan2(y,x) #where y is your numerator and x is your denominator in the tan() function\n",
    "np.arctan2(np.sin(range_1), np.cos(range_1)) #example\n",
    "\n",
    "#sums (see PreLab03 for more)\n",
    "j_array = np.arange(1,13)\n",
    "sum_j_function = np.sum(j_array)\n",
    "\n",
    "#Bessel Functions (see Lab03):\n",
    "import scipy.special as sf\n",
    "sf.jv(nu_bessel, x_bessel)\n",
    "\n",
    "#Elliptical Functions (see Lab04):\n",
    "sf.ellipk(x)\n",
    "\n",
    "#Indexing, Array Slicing - lots of info in PreLab05\n",
    "np.where(a >= 0.5)[0] #because np.where() returns a tuple\n",
    "array.copy() #do this when you're gonna change elements of an array but don't wanna fuck up the original \n",
    "#(array is just the variable name of some array)"
   ]
  }
 ],
 "metadata": {
  "kernelspec": {
   "display_name": "Python [conda env:p250] *",
   "language": "python",
   "name": "conda-env-p250-py"
  },
  "language_info": {
   "codemirror_mode": {
    "name": "ipython",
    "version": 3
   },
   "file_extension": ".py",
   "mimetype": "text/x-python",
   "name": "python",
   "nbconvert_exporter": "python",
   "pygments_lexer": "ipython3",
   "version": "3.12.7"
  }
 },
 "nbformat": 4,
 "nbformat_minor": 5
}
