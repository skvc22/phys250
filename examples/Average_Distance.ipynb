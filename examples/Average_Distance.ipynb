{
 "cells": [
  {
   "cell_type": "code",
   "execution_count": 1,
   "id": "39553a67-1659-41fb-b258-1569c751681b",
   "metadata": {},
   "outputs": [],
   "source": [
    "import numpy as np\n",
    "import matplotlib.pyplot as plt\n",
    "\n",
    "#Globally fix plot styling\n",
    "import matplotlib as mpl\n",
    "mpl.rc('xtick', direction='in', top=True)\n",
    "mpl.rc('ytick', direction='in', right=True)\n",
    "mpl.rc('xtick.minor', visible=True)\n",
    "mpl.rc('ytick.minor', visible=True)\n",
    "\n",
    "rng = np.random.default_rng()"
   ]
  },
  {
   "cell_type": "markdown",
   "id": "57b57a18-fb6b-43bd-ae32-8bc9952b139c",
   "metadata": {},
   "source": [
    "# Average distance\n",
    "\n",
    "This problem has been discussed multiple times online. One source is from [Mind Your Decisions](https://mindyourdecisions.com/blog/2016/07/03/distance-between-two-random-points-in-a-square-sunday-puzzle/) Presh Talwalkar shows how to analytically determine the average distance between two points in the unit square. This is hard to do analytically, but \"trivial\" to do numerically, ...."
   ]
  },
  {
   "cell_type": "code",
   "execution_count": 2,
   "id": "e0d494cc-8de5-4e75-8284-76714f2a1f84",
   "metadata": {},
   "outputs": [
    {
     "data": {
      "text/plain": [
       "0.5216468970246964"
      ]
     },
     "execution_count": 2,
     "metadata": {},
     "output_type": "execute_result"
    }
   ],
   "source": [
    "Nsamp = 10_000_000\n",
    "Npts = 2\n",
    "Ndim = 2\n",
    "pts = rng.random(size=(Nsamp,Ndim,Npts))\n",
    "diff = np.squeeze(np.diff(pts, axis=-1))\n",
    "dist = np.sqrt(np.sum(diff**2, axis=-1))\n",
    "np.mean(dist)"
   ]
  },
  {
   "cell_type": "code",
   "execution_count": null,
   "id": "ffacdd85-5e64-4bb0-9682-d692f69da327",
   "metadata": {},
   "outputs": [],
   "source": []
  },
  {
   "cell_type": "code",
   "execution_count": null,
   "id": "0585c67b-0d0a-428f-8baf-56f78bcc0520",
   "metadata": {},
   "outputs": [],
   "source": []
  },
  {
   "cell_type": "code",
   "execution_count": null,
   "id": "1cbad93d-56b6-4903-8b08-70e5b68b9fe9",
   "metadata": {},
   "outputs": [],
   "source": []
  },
  {
   "cell_type": "code",
   "execution_count": null,
   "id": "41d9b7b3-3d7d-410d-920e-4ab17b4999ff",
   "metadata": {},
   "outputs": [],
   "source": []
  },
  {
   "cell_type": "code",
   "execution_count": null,
   "id": "eb5f1b58-f475-42e3-a58c-f7c534fc6b0e",
   "metadata": {},
   "outputs": [],
   "source": []
  },
  {
   "cell_type": "code",
   "execution_count": 3,
   "id": "968ee2b4-aa61-410a-8e3c-c91ec56eeacd",
   "metadata": {},
   "outputs": [
    {
     "data": {
      "text/plain": [
       "0.6616407374450485"
      ]
     },
     "execution_count": 3,
     "metadata": {},
     "output_type": "execute_result"
    }
   ],
   "source": [
    "Nrel = 100_000\n",
    "Ndim = 3\n",
    "Npts = 2\n",
    "pts = rng.random(size=(Nrel, Ndim, Npts))\n",
    "d = np.squeeze(np.diff(pts, axis=-1))\n",
    "dist = np.sqrt(np.sum(d**2, axis=-1))\n",
    "np.mean(dist)"
   ]
  },
  {
   "cell_type": "code",
   "execution_count": null,
   "id": "c060ba90-9ecb-4eae-963c-36ac24d3c7d3",
   "metadata": {},
   "outputs": [],
   "source": []
  },
  {
   "cell_type": "code",
   "execution_count": null,
   "id": "414f3437-8b1a-4037-bbf5-2a08ddf36109",
   "metadata": {},
   "outputs": [],
   "source": []
  },
  {
   "cell_type": "code",
   "execution_count": null,
   "id": "631a557e-dce1-4b46-a3b8-a7998f047f0d",
   "metadata": {},
   "outputs": [],
   "source": []
  },
  {
   "cell_type": "markdown",
   "id": "f81aca1d-20dd-4ead-a863-8d0b6e6e81b8",
   "metadata": {},
   "source": [
    "## Memory usage\n",
    "\n",
    "It is easy to try to use too much memory!\n",
    "We are storing floating point numbers which are 8 bytes. Thus we can calculate how much memory we are using."
   ]
  },
  {
   "cell_type": "code",
   "execution_count": 4,
   "id": "a1f0b95c-1f9a-4fe4-bd8c-1e7843aeb516",
   "metadata": {},
   "outputs": [],
   "source": [
    "def mem_usage(Nrel, Ndim, Npts=2):\n",
    "    mem = Nrel * Ndim * Npts * 8 / 1024**3\n",
    "    print(f'Using {mem} GB')"
   ]
  },
  {
   "cell_type": "code",
   "execution_count": 5,
   "id": "350159bc-4073-42c2-9a1c-9fd3966e5120",
   "metadata": {},
   "outputs": [
    {
     "name": "stdout",
     "output_type": "stream",
     "text": [
      "Using 14.901161193847656 GB\n"
     ]
    }
   ],
   "source": [
    "mem_usage(100_000_000, 10)"
   ]
  },
  {
   "cell_type": "markdown",
   "id": "2cae963d-5b7b-4839-abe3-2e4e8bbaefc9",
   "metadata": {},
   "source": [
    "## General Solution"
   ]
  },
  {
   "cell_type": "code",
   "execution_count": 6,
   "id": "7ec8d416-7def-473f-a2d7-7117dcc8c859",
   "metadata": {},
   "outputs": [],
   "source": [
    "def average_distance_with_uncertainty(Nsets, Nrel, Ndim):\n",
    "    Npts = 2 # It only makes sense to have 2 pts.\n",
    "    pts = rng.random(size=(Nsets, Nrel, Ndim, Npts))\n",
    "    diff = np.squeeze(np.diff(pts, axis=-1))\n",
    "    dist = np.sqrt(np.sum(diff**2, axis=-1))\n",
    "    avg = np.mean(dist, axis=-1)\n",
    "    var = np.sqrt(np.var(avg))\n",
    "    return np.mean(avg), var"
   ]
  },
  {
   "cell_type": "code",
   "execution_count": 7,
   "id": "195ed349-5a0d-459b-8f9b-708842a4691f",
   "metadata": {},
   "outputs": [
    {
     "name": "stdout",
     "output_type": "stream",
     "text": [
      "Using 1.4901161193847656 GB\n"
     ]
    }
   ],
   "source": [
    "Nrel = 100_000\n",
    "ndimmax = 10\n",
    "Nsets = 100\n",
    "mem_usage(Nsets*Nrel, ndimmax)"
   ]
  },
  {
   "cell_type": "code",
   "execution_count": 8,
   "id": "ec1497df-9891-4af1-99f5-18a35e3e4fd0",
   "metadata": {},
   "outputs": [
    {
     "name": "stdout",
     "output_type": "stream",
     "text": [
      "2 (0.5215253497179162, 0.0007934338509869436)\n",
      "3 (0.661790158076986, 0.0007333677516631766)\n",
      "4 (0.7776312435912146, 0.000658835689265103)\n",
      "5 (0.8784782522098402, 0.0007798873195964297)\n",
      "6 (0.9690396501912268, 0.0007733155169881757)\n",
      "7 (1.0516666908426529, 0.0006804780028018306)\n",
      "8 (1.1282121381633008, 0.0008201592434864153)\n",
      "9 (1.1998122035783558, 0.0007958783077582739)\n",
      "10 (1.2675062279258646, 0.000683953795110894)\n"
     ]
    }
   ],
   "source": [
    "for ndim in range(2, ndimmax+1):\n",
    "    print(ndim, average_distance_with_uncertainty(Nsets, Nrel, ndim))"
   ]
  },
  {
   "cell_type": "code",
   "execution_count": null,
   "id": "102c6194-8fd0-4028-bd7e-1102b52df8d3",
   "metadata": {},
   "outputs": [],
   "source": []
  },
  {
   "cell_type": "code",
   "execution_count": null,
   "id": "61f610f9-3180-4e27-9441-8e644e615b1d",
   "metadata": {},
   "outputs": [],
   "source": []
  },
  {
   "cell_type": "code",
   "execution_count": null,
   "id": "494e0669-2329-4fa4-be72-e94c12d30ca9",
   "metadata": {},
   "outputs": [],
   "source": []
  },
  {
   "cell_type": "code",
   "execution_count": null,
   "id": "aea2ee0a-9fed-4652-94d1-3ee298ce6dfa",
   "metadata": {},
   "outputs": [],
   "source": []
  },
  {
   "cell_type": "code",
   "execution_count": null,
   "id": "21cc9635-7091-49fd-a76f-73d67671919c",
   "metadata": {},
   "outputs": [],
   "source": []
  },
  {
   "cell_type": "code",
   "execution_count": null,
   "id": "e5a69717-bd06-40b4-a405-85a6a135f3e3",
   "metadata": {},
   "outputs": [],
   "source": []
  },
  {
   "cell_type": "markdown",
   "id": "544348b7-2d6c-4764-83e0-19b3ea298324",
   "metadata": {},
   "source": [
    "## Analytic Result\n",
    "\n",
    "Analytically the answer for 2 dimensions is known to be\n",
    "$$ \\langle \\mathrm{dist} \\rangle = \\frac{2 + \\sqrt{2} + 5 \\ln(\\sqrt{2}+1)}{15}. $$"
   ]
  },
  {
   "cell_type": "code",
   "execution_count": 9,
   "id": "e83623ac-acdf-47dd-a4c0-a845de330518",
   "metadata": {},
   "outputs": [
    {
     "name": "stdout",
     "output_type": "stream",
     "text": [
      "Avg distance = 0.5214832077171753 +/- 0.0007895894514202302\n",
      "true distance = 0.5214054331647207\n",
      "true error = 7.777455245461251e-05\n"
     ]
    }
   ],
   "source": [
    "true_dist2 = (2 + np.sqrt(2) + 5 * np.log(np.sqrt(2) + 1)) / 15\n",
    "true_dist2\n",
    "dist2, err2 = average_distance_with_uncertainty(Nsets, Nrel, 2)\n",
    "print(f'''Avg distance = {dist2} +/- {err2}\n",
    "true distance = {true_dist2}\n",
    "true error = {np.abs(true_dist2 - dist2)}''')"
   ]
  },
  {
   "cell_type": "code",
   "execution_count": null,
   "id": "9c123c9e-ad2d-4dbd-8f58-fe5f3f826147",
   "metadata": {},
   "outputs": [],
   "source": []
  }
 ],
 "metadata": {
  "kernelspec": {
   "display_name": "Python 3 (ipykernel)",
   "language": "python",
   "name": "python3"
  },
  "language_info": {
   "codemirror_mode": {
    "name": "ipython",
    "version": 3
   },
   "file_extension": ".py",
   "mimetype": "text/x-python",
   "name": "python",
   "nbconvert_exporter": "python",
   "pygments_lexer": "ipython3",
   "version": "3.12.8"
  }
 },
 "nbformat": 4,
 "nbformat_minor": 5
}
