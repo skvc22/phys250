{
 "cells": [
  {
   "cell_type": "code",
   "execution_count": 2,
   "metadata": {},
   "outputs": [],
   "source": [
    "import numpy as np\n",
    "import matplotlib.pyplot as plt\n"
   ]
  },
  {
   "cell_type": "markdown",
   "metadata": {},
   "source": [
    "### #1"
   ]
  },
  {
   "cell_type": "code",
   "execution_count": 3,
   "metadata": {},
   "outputs": [],
   "source": [
    "def richardson_center (f, z, h, nsteps, args=()):\n",
    "    \"\"\"Evaluate the first derivative of a function at z, that is f'(z),\n",
    "    using Richardson extrapolation and center differencing.\n",
    "\n",
    "    Returned is the full table of approximations, Fij for j <= i. The\n",
    "    values of Fij for j > i are set to zero. The final value F[-1,-1]\n",
    "    should be the most accurate estimate.\n",
    "\n",
    "    Parameters\n",
    "    ----------\n",
    "    f : function\n",
    "        Vectorized Python function.\n",
    "        This is the function for which we are estimating the derivative.\n",
    "    z : number\n",
    "        Value at which to evaluate the derivative.\n",
    "    h : number\n",
    "        Initial stepsize.\n",
    "    nsteps : integer\n",
    "        Number of steps to perform.\n",
    "    args : tuple, optional\n",
    "        extra arguments to pass to the function, f.\n",
    "    \"\"\"\n",
    "    # Extra check to allow for args=(1) to be handled properly. This is a\n",
    "    # technical detail that you do not need to worry about.\n",
    "    if not isinstance(args, (tuple, list, np.ndarray)):\n",
    "        args = (args,)\n",
    "    # Create a zero filled table for our estimates\n",
    "    F = np.zeros((nsteps, nsteps))\n",
    "    # First column of F is the center differencing estimate.\n",
    "    # We can fill this without a loop!\n",
    "    harr = h / 2.**np.arange(nsteps)\n",
    "    F[:,0] = (f(z+harr, *args) - f(z-harr, *args)) / (2.*harr)\n",
    "    # Now iterate, unfortunately we do need one loop. We could\n",
    "    # get rid of the inner loop but the algorithm is a little easier to\n",
    "    # understand if we do not.\n",
    "    for i in range(1, nsteps):\n",
    "        fact = 0.25\n",
    "        for j in range(1, i+1):\n",
    "            F[i,j] = F[i-1,j-1] - (F[i-1,j-1] - F[i,j-1])/ (1-fact)\n",
    "            fact *= 0.25\n",
    "    return F\n",
    "\n",
    "def richardson_forward (f, z, h, nsteps, args=()):\n",
    "    \"\"\"Evaluate the first derivative of a function at z, that is f'(z),\n",
    "    using Richardson extrapolation and center differencing.\n",
    "\n",
    "    Returned is the full table of approximations, Fij for j <= i. The\n",
    "    values of Fij for j > i are set to zero. The final value F[-1,-1]\n",
    "    should be the most accurate estimate.\n",
    "\n",
    "    Parameters\n",
    "    ----------\n",
    "    f : function\n",
    "        Vectorized Python function.\n",
    "        This is the function for which we are estimating the derivative.\n",
    "    z : number\n",
    "        Value at which to evaluate the derivative.\n",
    "    h : number\n",
    "        Initial stepsize.\n",
    "    nsteps : integer\n",
    "        Number of steps to perform.\n",
    "    args : tuple, optional\n",
    "        extra arguments to pass to the function, f.\n",
    "    \"\"\"\n",
    "    # Extra check to allow for args=(1) to be handled properly. This is a\n",
    "    # technical detail that you do not need to worry about.\n",
    "    if not isinstance(args, (tuple, list, np.ndarray)):\n",
    "        args = (args,)\n",
    "    # Create a zero filled table for our estimates\n",
    "    F = np.zeros((nsteps, nsteps))\n",
    "    # First column of F is the center differencing estimate.\n",
    "    # We can fill this without a loop!\n",
    "    harr = h / 2.**np.arange(nsteps)\n",
    "    F[:,0] = (f(z+harr, *args) - f(z, *args)) / harr\n",
    "    # Now iterate, unfortunately we do need one loop. We could\n",
    "    # get rid of the inner loop but the algorithm is a little easier to\n",
    "    # understand if we do not.\n",
    "    for i in range(1, nsteps):\n",
    "        fact = 0.5\n",
    "        for j in range(1, i+1):\n",
    "            F[i,j] = F[i-1,j-1] - (F[i-1,j-1] - F[i,j-1])/ (1-fact)\n",
    "            fact *= 0.5\n",
    "    return F"
   ]
  },
  {
   "cell_type": "code",
   "execution_count": 4,
   "metadata": {},
   "outputs": [
    {
     "name": "stdout",
     "output_type": "stream",
     "text": [
      "$h=10^{-4}$:  1.0239231684749939e-10\n",
      "$h=10^{-5}$:  5.146993942162226e-13\n",
      "$h=10^{-6}$:  2.0949397772085376e-10\n",
      "$h=10^{-7}$:  7.319420625151452e-10\n"
     ]
    },
    {
     "data": {
      "text/plain": [
       "(1, 1e-08)"
      ]
     },
     "execution_count": 4,
     "metadata": {},
     "output_type": "execute_result"
    },
    {
     "data": {
      "image/png": "[encoded data removed]",
      "text/plain": [
       "<Figure size 640x480 with 1 Axes>"
      ]
     },
     "metadata": {},
     "output_type": "display_data"
    }
   ],
   "source": [
    "def f(x):\n",
    "    return np.exp(-x/4)\n",
    "\n",
    "def deriv(x,h):\n",
    "    return (f(x+h)-f(x-h))/(2*h)\n",
    "\n",
    "x = np.linspace(-5,5,100000)\n",
    "h = np.linspace(1,1e-8, 100000)\n",
    "\n",
    "true = (-1/4)*f(.65)\n",
    "\n",
    "print(r'$h=10^{-4}$: ', np.abs(1-(deriv(.65, 1e-4)/true)))\n",
    "print(r'$h=10^{-5}$: ', np.abs(1-(deriv(.65, 1e-5)/true)))\n",
    "print(r'$h=10^{-6}$: ', np.abs(1-(deriv(.65, 1e-6)/true)))\n",
    "print(r'$h=10^{-7}$: ', np.abs(1-(deriv(.65, 1e-7)/true)))\n",
    "\n",
    "plt.loglog(x, np.abs(1-(deriv(x,h))/(-1/4)*f(x)))\n",
    "plt.xlim(1, 1e-8)\n"
   ]
  },
  {
   "cell_type": "code",
   "execution_count": 5,
   "metadata": {},
   "outputs": [
    {
     "name": "stdout",
     "output_type": "stream",
     "text": [
      "2.6777318003286797e-05\n"
     ]
    },
    {
     "data": {
      "text/plain": [
       "5.601755933196455e-12"
      ]
     },
     "execution_count": 5,
     "metadata": {},
     "output_type": "execute_result"
    }
   ],
   "source": [
    "def e(eps, M):\n",
    "    h=((3*eps)/M)**(1/3)\n",
    "    print(h)\n",
    "    return (eps/h) + (h**2/6)*(M)\n",
    "\n",
    "e(1e-16, 1/64)"
   ]
  },
  {
   "cell_type": "markdown",
   "metadata": {},
   "source": [
    "### #2"
   ]
  },
  {
   "cell_type": "code",
   "execution_count": 6,
   "metadata": {},
   "outputs": [
    {
     "name": "stdout",
     "output_type": "stream",
     "text": [
      "center err:  1.4432899320127035e-14\n",
      "forward err:  6.439293542825908e-14\n"
     ]
    }
   ],
   "source": [
    "def f(x):\n",
    "    return (3**x)*(np.sin(x))\n",
    "\n",
    "z=1.15\n",
    "h=.4\n",
    "\n",
    "true = ((3**z)*np.cos(z))+(np.log(3)*np.sin(z)*(3**z))\n",
    "# true = (np.log(z)*np.sin(z)*(3**z))\n",
    "\n",
    "c=richardson_center(f, z, h, 8)[-1, -1]\n",
    "fr = richardson_forward(f, z, h, 8)[-1, -1]\n",
    "print(\"center err: \", np.abs(1-(c/true)))\n",
    "print(\"forward err: \", np.abs(1-(fr/true)))"
   ]
  },
  {
   "cell_type": "code",
   "execution_count": 9,
   "metadata": {},
   "outputs": [
    {
     "name": "stdout",
     "output_type": "stream",
     "text": [
      "true val:  4.99225568943156\n",
      "center est:  4.992255689431632\n",
      "forward est:  4.992255689431238\n",
      "center err:  1.4432899320127035e-14\n",
      "forward err:  6.439293542825908e-14\n"
     ]
    }
   ],
   "source": [
    "c=richardson_center(f, z, h, 8)[-1, -1]\n",
    "fr = richardson_forward(f, z, h, 8)[-1, -1]\n",
    "print(\"true val: \", true)\n",
    "print(\"center est: \", c)\n",
    "print(\"forward est: \", fr)\n",
    "print(\"center err: \", np.abs(1-(c/true)))\n",
    "print(\"forward err: \", np.abs(1-(fr/true))) "
   ]
  },
  {
   "cell_type": "code",
   "execution_count": 8,
   "metadata": {},
   "outputs": [
    {
     "name": "stdout",
     "output_type": "stream",
     "text": [
      "i= 1\n",
      "center err:  0.014829666873129144\n",
      "forward err:  0.1315164482544251\n",
      "\n",
      "i= 2\n",
      "center err:  0.0002710270558137218\n",
      "forward err:  0.013549622826160457\n",
      "\n",
      "i= 3\n",
      "center err:  6.0837150872572465e-09\n",
      "forward err:  0.0011999741556315557\n",
      "\n",
      "i= 4\n",
      "center err:  1.0999534616473738e-11\n",
      "forward err:  1.8962247856357806e-05\n",
      "\n",
      "i= 5\n",
      "center err:  5.10702591327572e-15\n",
      "forward err:  6.641061145451488e-08\n",
      "\n",
      "i= 6\n",
      "center err:  1.3322676295501878e-15\n",
      "forward err:  4.2520209575513945e-11\n",
      "\n",
      "i= 7\n",
      "center err:  3.019806626980426e-14\n",
      "forward err:  3.5371705564557487e-13\n",
      "\n",
      "i= 8\n",
      "center err:  1.4432899320127035e-14\n",
      "forward err:  6.439293542825908e-14\n",
      "\n",
      "i= 9\n",
      "center err:  9.00390872971002e-14\n",
      "forward err:  9.43689570931383e-15\n",
      "\n",
      "i= 10\n",
      "center err:  5.229150445984487e-14\n",
      "forward err:  1.1546319456101628e-13\n",
      "\n",
      "i= 11\n",
      "center err:  4.0234482412415673e-13\n",
      "forward err:  1.4208634269152753e-12\n",
      "\n",
      "i= 12\n",
      "center err:  2.4447111002245947e-13\n",
      "forward err:  6.303846333821639e-13\n",
      "\n",
      "i= 13\n",
      "center err:  1.7705836796721997e-12\n",
      "forward err:  5.6918914026482526e-12\n",
      "\n",
      "i= 14\n",
      "center err:  1.18849374786123e-12\n",
      "forward err:  2.6991742174686806e-12\n",
      "\n",
      "i= 15\n",
      "center err:  3.2391866966463567e-12\n",
      "forward err:  1.1192158311246203e-11\n",
      "\n",
      "i= 16\n",
      "center err:  6.836309296431864e-12\n",
      "forward err:  1.2684964190157189e-11\n",
      "\n",
      "i= 17\n",
      "center err:  2.9869218209910287e-11\n",
      "forward err:  8.27141688475308e-11\n",
      "\n",
      "i= 18\n",
      "center err:  1.021094320208249e-11\n",
      "forward err:  8.610911983453207e-11\n",
      "\n",
      "i= 19\n",
      "center err:  8.380474092462009e-11\n",
      "forward err:  3.22279758435684e-10\n",
      "\n"
     ]
    }
   ],
   "source": [
    "for i in range(1,20):\n",
    "    print(\"i=\", i)\n",
    "    c=richardson_center(f, z, h, i)[-1, -1]\n",
    "    fr = richardson_forward(f, z, h, i)[-1, -1]\n",
    "    print(\"center err: \", np.abs(1-(c/true)))\n",
    "    print(\"forward err: \", np.abs(1-(fr/true))) \n",
    "    print()"
   ]
  },
  {
   "cell_type": "code",
   "execution_count": null,
   "metadata": {},
   "outputs": [],
   "source": []
  }
 ],
 "metadata": {
  "kernelspec": {
   "display_name": "base",
   "language": "python",
   "name": "python3"
  },
  "language_info": {
   "codemirror_mode": {
    "name": "ipython",
    "version": 3
   },
   "file_extension": ".py",
   "mimetype": "text/x-python",
   "name": "python",
   "nbconvert_exporter": "python",
   "pygments_lexer": "ipython3",
   "version": "3.11.5"
  }
 },
 "nbformat": 4,
 "nbformat_minor": 2
}
