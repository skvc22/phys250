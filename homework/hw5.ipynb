{
 "cells": [
  {
   "cell_type": "code",
   "execution_count": 7,
   "metadata": {},
   "outputs": [],
   "source": [
    "import numpy as np"
   ]
  },
  {
   "cell_type": "code",
   "execution_count": 63,
   "metadata": {},
   "outputs": [],
   "source": [
    "def rk2(f, y0, t, args=()):\n",
    "    y=np.zeros_like(t)\n",
    "    y[0]=y0\n",
    "    delt=np.diff(t)\n",
    "    for i in range(len(t)-1):\n",
    "        k1 = delt[i]*f(t[i], y[i], *args)  \n",
    "        k2=delt[i]*f(t[i]+delt[i]/2, y[i]+k1/2, *args)\n",
    "        y[i+1]=y[i]+k2\n",
    "    return y\n",
    "\n",
    "def rk4(f, y0, t, args=()):\n",
    "    y=np.zeros_like(t)\n",
    "    y[0]=y0\n",
    "    delt=np.diff(t)\n",
    "    for i in range(len(t)-1):\n",
    "        k1 = delt[i]*f(t[i], y[i], *args)\n",
    "        k2=delt[i]*f(t[i]+delt[i]/2, y[i]+k1/2, *args)\n",
    "        k3=delt[i]*f(t[i]+delt[i]/2, y[i]+k2/2, *args)\n",
    "        k4=delt[i]*f(t[i]+delt[i], y[i]+k3, *args)\n",
    "        y[i+1] = y[i] + k1/6 + k2/3 + k3/3 + k4/6\n",
    "    return y\n",
    "\n",
    "def fn(t,y, args=()):\n",
    "    return 6*(t**2)-t-(12*y)"
   ]
  },
  {
   "cell_type": "code",
   "execution_count": 64,
   "metadata": {},
   "outputs": [
    {
     "name": "stdout",
     "output_type": "stream",
     "text": [
      "2nd Order:\n",
      "Approximated value: 0.003082226434529983\n",
      "True value: 0.003075498702483683\n",
      "Fractional error: 0.0021875255680865457\n",
      "\n",
      "4th Order:\n",
      "Approximated value: 0.003075500267447452\n",
      "True value: 0.003075498702483683\n",
      "Fractional error: 5.088487819993048e-07\n"
     ]
    }
   ],
   "source": [
    "def real(t):\n",
    "    return (1/2)*t**2-(1/6)*t+1/72+(1/36)*np.exp(-12*t)\n",
    "\n",
    "def err(approx, true):\n",
    "    return np.abs(1-approx/true)\n",
    "\n",
    "times = np.arange(0,.205,.005)\n",
    "\n",
    "true=real(times)\n",
    "\n",
    "approx=rk2(fn, 1/24, times)\n",
    "print(f'2nd Order:\\nApproximated value: {approx[-1]}\\nTrue value: {true[-1]}\\nFractional error: {err(approx, true)[-1]}')\n",
    "\n",
    "approx2=rk4(fn, 1/24, times)\n",
    "print(f'\\n4th Order:\\nApproximated value: {approx2[-1]}\\nTrue value: {true[-1]}\\nFractional error: {err(approx2, true)[-1]}')"
   ]
  },
  {
   "cell_type": "code",
   "execution_count": null,
   "metadata": {},
   "outputs": [],
   "source": []
  }
 ],
 "metadata": {
  "kernelspec": {
   "display_name": "base",
   "language": "python",
   "name": "python3"
  },
  "language_info": {
   "codemirror_mode": {
    "name": "ipython",
    "version": 3
   },
   "file_extension": ".py",
   "mimetype": "text/x-python",
   "name": "python",
   "nbconvert_exporter": "python",
   "pygments_lexer": "ipython3",
   "version": "3.11.5"
  }
 },
 "nbformat": 4,
 "nbformat_minor": 2
}
