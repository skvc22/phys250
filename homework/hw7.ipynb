{
 "cells": [
  {
   "cell_type": "code",
   "execution_count": 1,
   "metadata": {},
   "outputs": [],
   "source": [
    "import scipy.linalg as la\n",
    "import numpy as np"
   ]
  },
  {
   "cell_type": "code",
   "execution_count": 6,
   "metadata": {},
   "outputs": [
    {
     "name": "stderr",
     "output_type": "stream",
     "text": [
      "C:\\Users\\sophi\\AppData\\Local\\Temp\\ipykernel_18620\\3631286315.py:4: LinAlgWarning: Ill-conditioned matrix (rcond=2.20467e-18): result may not be accurate.\n",
      "  x=la.solve(arr, rightside)\n"
     ]
    },
    {
     "data": {
      "text/plain": [
       "array([-6.00000000e-01,  5.84327908e-18,  4.66666667e-01])"
      ]
     },
     "execution_count": 6,
     "metadata": {},
     "output_type": "execute_result"
    }
   ],
   "source": [
    "arr=np.array([[4.,-7,3], [1,3,-3],[3,-29,21]])\n",
    "rightside=np.array([-1., -2, 8])\n",
    "\n",
    "x=la.solve(arr, rightside)\n",
    "\n",
    "# print(x)\n",
    "# arr@x\n",
    "# print(la.lu(arr)[2])\n",
    "x"
   ]
  },
  {
   "cell_type": "code",
   "execution_count": 3,
   "metadata": {},
   "outputs": [
    {
     "data": {
      "text/plain": [
       "array([[10.  , -7.  ,  1.  ],\n",
       "       [ 0.  ,  2.5 ,  4.5 ],\n",
       "       [ 0.  ,  0.  ,  6.48]])"
      ]
     },
     "execution_count": 3,
     "metadata": {},
     "output_type": "execute_result"
    }
   ],
   "source": [
    "arr2=np.array([[10.,-7,1], [-3,2,6],[5,-1,5]])\n",
    "\n",
    "la.lu(arr2)[2]"
   ]
  },
  {
   "cell_type": "code",
   "execution_count": 4,
   "metadata": {},
   "outputs": [
    {
     "data": {
      "text/plain": [
       "6.0"
      ]
     },
     "execution_count": 4,
     "metadata": {},
     "output_type": "execute_result"
    }
   ],
   "source": [
    "A=np.array([[5,2,0,0,0], [0,-2,9,2,0],[0,0,0,-2,3],[-1,1,1,0,0],[0,0,-1,1,1]])\n",
    "b=np.array([6,0,0,0,0])\n",
    "\n",
    "i=la.solve(A,b)\n",
    "(5*i[0])+(9*i[2])+(3*i[4])"
   ]
  }
 ],
 "metadata": {
  "kernelspec": {
   "display_name": "base",
   "language": "python",
   "name": "python3"
  },
  "language_info": {
   "codemirror_mode": {
    "name": "ipython",
    "version": 3
   },
   "file_extension": ".py",
   "mimetype": "text/x-python",
   "name": "python",
   "nbconvert_exporter": "python",
   "pygments_lexer": "ipython3",
   "version": "3.11.5"
  }
 },
 "nbformat": 4,
 "nbformat_minor": 2
}
