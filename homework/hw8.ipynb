{
 "cells": [
  {
   "cell_type": "code",
   "execution_count": 1,
   "id": "955bd7e0",
   "metadata": {},
   "outputs": [],
   "source": [
    "import numpy as np\n",
    "import scipy.linalg as la"
   ]
  },
  {
   "cell_type": "code",
   "execution_count": 2,
   "id": "1b7570d5",
   "metadata": {},
   "outputs": [
    {
     "name": "stdout",
     "output_type": "stream",
     "text": [
      "The condition number is 16024255940444.816, which is of the order 10^13.\n"
     ]
    }
   ],
   "source": [
    "h=la.hilbert(10)\n",
    "\n",
    "(w,v)=la.eigh(h)\n",
    "\n",
    "k=(max(np.abs(w))/min(np.abs(w)))\n",
    "order=np.log10(k)\n",
    "print(f'The condition number is {k}, which is of the order 10^{int(order)}.')"
   ]
  },
  {
   "cell_type": "code",
   "execution_count": 3,
   "id": "d797e0ca",
   "metadata": {},
   "outputs": [
    {
     "data": {
      "text/plain": [
       "6.30534834797885e-05"
      ]
     },
     "execution_count": 3,
     "metadata": {},
     "output_type": "execute_result"
    }
   ],
   "source": [
    "inv = la.inv(h)\n",
    "prod = inv@h \n",
    "I = np.eye(10)\n",
    "\n",
    "np.max(abs(prod-I))"
   ]
  },
  {
   "cell_type": "code",
   "execution_count": 13,
   "id": "5d593e3b",
   "metadata": {},
   "outputs": [
    {
     "data": {
      "text/plain": [
       "3.2833022640763834"
      ]
     },
     "execution_count": 13,
     "metadata": {},
     "output_type": "execute_result"
    }
   ],
   "source": [
    "D=np.diag(w)\n",
    "Dinv=np.diag(1/w)\n",
    "\n",
    "hinv=v@Dinv@v.T\n",
    "\n",
    "prod = hinv@h \n",
    "I = np.eye(10)\n",
    "\n",
    "np.max(abs(prod-I))*1e4"
   ]
  }
 ],
 "metadata": {
  "kernelspec": {
   "display_name": "base",
   "language": "python",
   "name": "python3"
  },
  "language_info": {
   "codemirror_mode": {
    "name": "ipython",
    "version": 3
   },
   "file_extension": ".py",
   "mimetype": "text/x-python",
   "name": "python",
   "nbconvert_exporter": "python",
   "pygments_lexer": "ipython3",
   "version": "3.11.5"
  }
 },
 "nbformat": 4,
 "nbformat_minor": 5
}
