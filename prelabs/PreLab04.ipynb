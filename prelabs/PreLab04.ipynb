{
 "cells": [
  {
   "cell_type": "markdown",
   "metadata": {},
   "source": [
    "# PreLab 04 : Numerical Integration\n",
    "\n",
    "## Objectives\n",
    "\n",
    "The main objectives of this lab are as follows.\n",
    "\n",
    "- Learn the Zen of Python.\n",
    "- Discover the incredible power of `scipy.integrate.quad`."
   ]
  },
  {
   "cell_type": "markdown",
   "metadata": {},
   "source": [
    "## Initialization\n",
    "\n",
    "As always you should add initialization to the top of your notebook."
   ]
  },
  {
   "cell_type": "code",
   "execution_count": 1,
   "metadata": {
    "deletable": false,
    "nbgrader": {
     "cell_type": "code",
     "checksum": "5d1ba5a21920a12891fee4d3faf11638",
     "grade": true,
     "grade_id": "cell-5050b1852e504821",
     "locked": false,
     "points": 0,
     "schema_version": 3,
     "solution": true
    }
   },
   "outputs": [],
   "source": [
    "import numpy as np\n",
    "import matplotlib.pyplot as plt\n",
    "import scipy.integrate as integ\n",
    "import scipy.special as sf\n",
    "\n",
    "import matplotlib as mpl\n",
    "mpl.rc('xtick', direction='in', top=True)\n",
    "mpl.rc('ytick', direction='in', right=True)\n",
    "mpl.rc('xtick.minor', visible=True)\n",
    "mpl.rc('ytick.minor', visible=True)"
   ]
  },
  {
   "cell_type": "markdown",
   "metadata": {},
   "source": [
    "## Doing Things the \"Right Way\"\n",
    "\n",
    "Why are we being so insistent that notebooks should be written in specific ways, enforcing all sorts of \"rules\" on what you do? There are a number of reasons that could be given, but, in the end, they reduce to this being the right way to create sustainable documents. In research it is often the case that we need to revisit calculations performed months or even years earlier. This could be due to a referee's comment on a paper suggesting some small change to try or it could be that we are working on a similar project and want to reuse code from the past. In this course it could be that you need to look back at the labs while working on the computational portion of the midterm or final exams! In such cases we typically will have forgotten the details of what we had been working on and instead only have the code sitting there. Notebooks make it much easier to leave this code in a documented, usable form. Even so, if we have implicitly made assumptions about the environment in which the code will be run, these assumptions will have been long since forgotten when we come back to the code, and thus we would need to spend a lot of time trying to figure out \"what we were thinking\" at the time. If instead we are explicit about all these details it will be much easier to figure out what the code is doing and how to use/reuse it.\n",
    "\n",
    "In Python these ideas are even more strongly ingrained in the community. So much so that there is a \"Zen of Python\", a set of mantras to follow which will lead to better coding. Though you could search for this online, it is provided with Python itself.\n",
    "\n",
    "  Run \n",
    "  ```python\n",
    "  import this\n",
    "  ```\n",
    "  in the cell below."
   ]
  },
  {
   "cell_type": "code",
   "execution_count": 2,
   "metadata": {},
   "outputs": [
    {
     "name": "stdout",
     "output_type": "stream",
     "text": [
      "The Zen of Python, by Tim Peters\n",
      "\n",
      "Beautiful is better than ugly.\n",
      "Explicit is better than implicit.\n",
      "Simple is better than complex.\n",
      "Complex is better than complicated.\n",
      "Flat is better than nested.\n",
      "Sparse is better than dense.\n",
      "Readability counts.\n",
      "Special cases aren't special enough to break the rules.\n",
      "Although practicality beats purity.\n",
      "Errors should never pass silently.\n",
      "Unless explicitly silenced.\n",
      "In the face of ambiguity, refuse the temptation to guess.\n",
      "There should be one-- and preferably only one --obvious way to do it.\n",
      "Although that way may not be obvious at first unless you're Dutch.\n",
      "Now is better than never.\n",
      "Although never is often better than *right* now.\n",
      "If the implementation is hard to explain, it's a bad idea.\n",
      "If the implementation is easy to explain, it may be a good idea.\n",
      "Namespaces are one honking great idea -- let's do more of those!\n"
     ]
    }
   ],
   "source": [
    "import this"
   ]
  },
  {
   "cell_type": "markdown",
   "metadata": {},
   "source": [
    "Now that your life has been changed we can proceed with the rest of the semeter ...."
   ]
  },
  {
   "cell_type": "markdown",
   "metadata": {},
   "source": [
    "## Homework!\n",
    "\n",
    "Read the homework and solve problem 1! Though it is not needed for this prelab and there is nothing you need to include here, you must read and solve this problem for the lab. You need a result from it to complete the lab. Note that this also means that you *will* get part of the homework correct since you will test the result in the lab."
   ]
  },
  {
   "cell_type": "markdown",
   "metadata": {},
   "source": [
    "## Romberg Integration?\n",
    "\n",
    "Romberg integration is an example of using Richardson extrapolation in integration.\n",
    "For many year `scipy.integrate` had a function called `romberg` to perform Romberg integration of a function.\n",
    "Since I expect most of us are using scipy version 1.14 or older, I expect we still have this function.\n",
    "You should look up its documentation.\n",
    "If you try to use it you will get a warning telling you that the function is deprecated and that it will be removed in version 1.15.\n",
    "Shockingly, **this function was actually removed** from scipy in version 1.15!\n",
    "Obviously, we should never use it in new code.\n",
    "\n",
    "On the other hand, `scipy.integrate.romb` still exists.\n",
    "It does something similar.\n",
    "Look up its documentation.\n",
    "Briefly explain why it makes sense for this function to still exist but for the other version of the function to no longer exist.\n",
    "What is the difference between these two functions?\n",
    "Why is that important?"
   ]
  },
  {
   "cell_type": "markdown",
   "metadata": {
    "deletable": false,
    "nbgrader": {
     "cell_type": "markdown",
     "checksum": "d3b57080689429c5ca06a881e490ff47",
     "grade": true,
     "grade_id": "cell-d2e7b48c77afdcc6",
     "locked": false,
     "points": 0.25,
     "schema_version": 3,
     "solution": true,
     "task": false
    }
   },
   "source": [
    "Essentially all of the functionality provided by `scipy.integrate.romberg` is present in `scipy.integrate.quad`, so having both was redundant. `scipy.integrate.romb`, on the other hand, allows us to pass data points instead of a function, which is useful if we have data we want to integrate but not a function. It is also useful if we for some reason want a constant sample size, since `scipy.integrate.quad` uses adaptive quadrature, which varies the distance between data points used to evaluate the integral.  "
   ]
  },
  {
   "cell_type": "markdown",
   "metadata": {},
   "source": [
    "All that being said, we can still using Romberg integration through `scipy.integrate.romb`.\n",
    "We will explore its use (and some other issues) by considering the integral\n",
    "$$ \\int_0^\\phi \\sqrt{2-\\sin^2 x} \\,\\mathrm{d}x = \\sqrt{2} E\\!\\left( \\phi, \\frac{1}{2} \\right), $$\n",
    "where $E(\\phi,k)$ is the incomplete elliptic integral of the second kind.\n",
    "It is available in scipy as `scipy.special.ellipeinc`.\n",
    "\n",
    "Evaluate this integral for $\\phi=58$ using `romb` where we have evaluated the function at 1025 points.\n",
    "(The documentation for `romb` makes it clear why I chose a number of points of this form.)\n",
    "Print the resulting value and its fractional error.\n",
    "This error will be approximately $10^{-11}$."
   ]
  },
  {
   "cell_type": "code",
   "execution_count": 3,
   "metadata": {
    "deletable": false,
    "nbgrader": {
     "cell_type": "code",
     "checksum": "f3b8b7fa726a58f740bf1b376f1039c2",
     "grade": true,
     "grade_id": "cell-2750d4f863fa5376",
     "locked": false,
     "points": 0.25,
     "schema_version": 3,
     "solution": true,
     "task": false
    }
   },
   "outputs": [
    {
     "name": "stdout",
     "output_type": "stream",
     "text": [
      "Value:  70.55391225773273\n",
      "Fractional Error:  4.727662705761304e-12\n"
     ]
    }
   ],
   "source": [
    "def f(x):\n",
    "    return np.sqrt(2-np.sin(x)**2)\n",
    "\n",
    "true = np.sqrt(2)*sf.ellipeinc(58, 1/2)\n",
    "\n",
    "phi = np.linspace(0,58,1025)\n",
    "y=f(phi)\n",
    "romb = integ.romb(y, dx=(phi[1]-phi[0]))\n",
    "print(\"Value: \", romb)\n",
    "print(\"Fractional Error: \", np.abs(1-romb/true))"
   ]
  },
  {
   "cell_type": "markdown",
   "metadata": {},
   "source": [
    "Let us compare this to `quad`.\n",
    "Use `quad` to perform this integral.\n",
    "Do not change the default tolerance settings.\n",
    "**Only print** the value of the integral, the error estimate quad reports, the actual fractional error, and the total number of function evaluations required.\n",
    "Notice how the reported error and the actual error can differ significantly."
   ]
  },
  {
   "cell_type": "code",
   "execution_count": 4,
   "metadata": {
    "deletable": false,
    "nbgrader": {
     "cell_type": "code",
     "checksum": "12f04ddb01bc4ea7491b0035bb2d0857",
     "grade": true,
     "grade_id": "cell-1195664ee051e59d",
     "locked": false,
     "points": 0.25,
     "schema_version": 3,
     "solution": true,
     "task": false
    }
   },
   "outputs": [
    {
     "name": "stdout",
     "output_type": "stream",
     "text": [
      "Value:  70.55391225806716\n",
      "quad Error:  9.372475277987616e-07\n",
      "Fractional Error:  1.2212453270876722e-14\n",
      "Function Evaluations:  1239\n"
     ]
    }
   ],
   "source": [
    "(res, err, info) = integ.quad(f, 0, 58, full_output=True)\n",
    "print(\"Value: \", res)\n",
    "print(\"quad Error: \", err)\n",
    "print(\"Fractional Error: \", np.abs(1-res/true))\n",
    "print(\"Function Evaluations: \", info['neval'])"
   ]
  },
  {
   "cell_type": "markdown",
   "metadata": {},
   "source": [
    "Though the above works and `quad` does a remarkable job with approximately the same number of function evaluations as we used with `romb`, this is not the most efficient way to calculate this integral.\n",
    "To see why first produce a quick plot of the integrand over the full range of the integral."
   ]
  },
  {
   "cell_type": "code",
   "execution_count": 5,
   "metadata": {
    "deletable": false,
    "nbgrader": {
     "cell_type": "code",
     "checksum": "0f99d71fc839e87e28e975ee189cd3c2",
     "grade": true,
     "grade_id": "cell-227cfd06b4fa22a5",
     "locked": false,
     "points": 0.25,
     "schema_version": 3,
     "solution": true
    }
   },
   "outputs": [
    {
     "data": {
      "text/plain": [
       "(0.0, 58.0)"
      ]
     },
     "execution_count": 5,
     "metadata": {},
     "output_type": "execute_result"
    },
    {
     "data": {
      "image/png": "[encoded data removed]",
      "text/plain": [
       "<Figure size 640x480 with 1 Axes>"
      ]
     },
     "metadata": {},
     "output_type": "display_data"
    }
   ],
   "source": [
    "plt.plot(phi, y, c='k');\n",
    "plt.xlabel(r'$\\varphi$')\n",
    "plt.ylabel(r'$f(\\varphi)$')\n",
    "plt.title(\"Incomplete Elliptic of the Second Kind\")\n",
    "plt.xlim(phi[0], phi[-1])"
   ]
  },
  {
   "cell_type": "markdown",
   "metadata": {},
   "source": [
    "You will notice that the function oscillates over a number of complete periods.\n",
    "Determine the oscillation frequency of the integrand (this you can do analytically!), the number of complete oscillations of the integrand, and the remaining extra part of an incomplete period at the end of the integrals range.\n",
    "Print these results.\n",
    "(*Note:* Here it is useful to employ `//` for integer division (or the `int()` function) to get the integer part of a calculation and `%` for modular arithmetic.)"
   ]
  },
  {
   "cell_type": "code",
   "execution_count": 6,
   "metadata": {
    "deletable": false,
    "nbgrader": {
     "cell_type": "code",
     "checksum": "f1b2730f82567e77753563bf1e3a737a",
     "grade": true,
     "grade_id": "cell-c4f291c689c27cde",
     "locked": false,
     "points": 0.5,
     "schema_version": 3,
     "solution": true
    }
   },
   "outputs": [
    {
     "name": "stdout",
     "output_type": "stream",
     "text": [
      "Frequency: 0.3183098861837907\n",
      "Complete oscillations: 18.0\n",
      "Incomplete: 0.46197339865985965% of a period\n"
     ]
    }
   ],
   "source": [
    "freq = 1/np.pi\n",
    "per = 1/freq\n",
    "num = phi[-1]//per\n",
    "mod = (phi[-1]%per)/per\n",
    "print(f'Frequency: {freq}\\nComplete oscillations: {num}\\nIncomplete: {mod}% of a period')"
   ]
  },
  {
   "cell_type": "markdown",
   "metadata": {},
   "source": [
    "It is more efficient to break up the complete integral into an integral over one period multiplied by the number of periods and an integral over the remaining part of a period.\n",
    "Again use `quad` to separately evaluate these two integrals and combine them to get the complete result.\n",
    "**Only print** the value of the total integral, its true fractional error, and the total number of function evaluations required in this case.\n",
    "(We will ignore the error estimates produced by `quad`, a dangerous habit to acquire.)"
   ]
  },
  {
   "cell_type": "code",
   "execution_count": 7,
   "metadata": {
    "deletable": false,
    "nbgrader": {
     "cell_type": "code",
     "checksum": "c58a6f171955590beb3bf0d8a274e6c3",
     "grade": true,
     "grade_id": "cell-e3ef113fa763258b",
     "locked": false,
     "points": 0.5,
     "schema_version": 3,
     "solution": true
    }
   },
   "outputs": [
    {
     "name": "stdout",
     "output_type": "stream",
     "text": [
      "Value:  70.55391225806628\n",
      "Fractional Error:  2.220446049250313e-16\n",
      "Function Evaluations:  84\n"
     ]
    }
   ],
   "source": [
    "(res1, err1, info1) = integ.quad(f, 0, np.pi, full_output=True) \n",
    "(res2, err2, info2) = integ.quad(f, 18*np.pi, 58, full_output=True)\n",
    "val = (18*res1)+res2\n",
    "evals = info1['neval'] + info2['neval']\n",
    "print(\"Value: \", val)\n",
    "print(\"Fractional Error: \", np.abs(1-val/true))\n",
    "print(\"Function Evaluations: \",evals)"
   ]
  },
  {
   "cell_type": "markdown",
   "metadata": {},
   "source": [
    "Be amazed!\n",
    "You should find a very accurate result from far fewer function evaluations!\n",
    "Explain why far fewer function evaluations are required."
   ]
  },
  {
   "cell_type": "markdown",
   "metadata": {
    "deletable": false,
    "nbgrader": {
     "cell_type": "markdown",
     "checksum": "c0de710a3785dda7b449faea7697331d",
     "grade": true,
     "grade_id": "cell-1300bab6d056de17",
     "locked": false,
     "points": 0.5,
     "schema_version": 3,
     "solution": true
    }
   },
   "source": [
    "`scipy.integrate.quad` integrates via adaptive quadrature, which entails a great deal of function evaluations across something oscillating as strongly as our function here does. Since we know it is periodic, there is no need to go through the repeated bisection with all the function evaluations that entails to find an appropriate step size for all 18.46 oscillations present here. We can just do it for the first oscillation and the incomplete one at the end and (with some multiplication) get the same result. "
   ]
  },
  {
   "cell_type": "markdown",
   "metadata": {},
   "source": [
    "Note that we could do even better. By symmetry, as seen in your plot above, we could instead integrate over a half period instead of a full period. Feel free to repeat the above now using a half period  You should find even fewer function evaluations are required!\n",
    "\n",
    "**This is not required.** But will be included in the solutions."
   ]
  },
  {
   "cell_type": "code",
   "execution_count": 8,
   "metadata": {
    "deletable": false,
    "nbgrader": {
     "cell_type": "code",
     "checksum": "28b7a89c7c492465bfdb858382bc2c07",
     "grade": true,
     "grade_id": "cell-63e2e3bf5c325a74",
     "locked": false,
     "points": 0,
     "schema_version": 3,
     "solution": true
    }
   },
   "outputs": [
    {
     "name": "stdout",
     "output_type": "stream",
     "text": [
      "Value:  70.55391225806628\n",
      "Fractional Error:  2.220446049250313e-16\n",
      "Function Evaluations:  42\n"
     ]
    }
   ],
   "source": [
    "(res1, err1, info1) = integ.quad(f, 0, np.pi/2, full_output=True) \n",
    "(res2, err2, info2) = integ.quad(f, 18*np.pi, 58, full_output=True)\n",
    "val = (36*res1)+res2\n",
    "evals = info1['neval'] + info2['neval']\n",
    "print(\"Value: \", val)\n",
    "print(\"Fractional Error: \", np.abs(1-val/true))\n",
    "print(\"Function Evaluations: \",evals)"
   ]
  },
  {
   "cell_type": "markdown",
   "metadata": {},
   "source": [
    "## The Power of `quad`\n",
    "\n",
    "As noted in class, `scipy.integrate.quad` is an extremely powerful integration routine.\n",
    "Here we will study one set of features it provides without us even asking for it: the ability to handle divergences in the integrand at the end points of the integration range and integration over (semi-)infinite intervals."
   ]
  },
  {
   "attachments": {},
   "cell_type": "markdown",
   "metadata": {},
   "source": [
    "### Divergent Integrand\n",
    "\n",
    "Consider the integral\n",
    "$$ \\int_0^1 \\frac{\\mathrm{d}x}{\\sqrt{x}}. $$\n",
    "Notice that the integrand diverges for $x \\to 0$.\n",
    "You can perform this integral analytically. Do so! We will use the result below. \n",
    "\n",
    "Evaluate this integral with `quad`.\n",
    "Print the value of the integral and the fractional error in the result (since you know the true value of the integral ...).\n",
    "You should find it handles the integral with no problem and produces a very accurate result!"
   ]
  },
  {
   "cell_type": "code",
   "execution_count": 9,
   "metadata": {
    "deletable": false,
    "nbgrader": {
     "cell_type": "code",
     "checksum": "62263cb636458832aa557217b6ba1216",
     "grade": true,
     "grade_id": "cell-3638abb8e00408fb",
     "locked": false,
     "points": 0.5,
     "schema_version": 3,
     "solution": true
    }
   },
   "outputs": [
    {
     "name": "stdout",
     "output_type": "stream",
     "text": [
      "Value:  1.9999999999999984\n",
      "Fractional Error:  7.771561172376096e-16\n"
     ]
    }
   ],
   "source": [
    "def f(x):\n",
    "    return 1/np.sqrt(x)\n",
    "\n",
    "(res, err, info) = integ.quad(f, 0, 1, full_output=True)\n",
    "print(\"Value: \", res)\n",
    "print(\"Fractional Error: \", np.abs(1-res/2))"
   ]
  },
  {
   "cell_type": "markdown",
   "metadata": {},
   "source": [
    "### Semi-infinite Integral Range\n",
    "\n",
    "Consider the integral\n",
    "$$ \\int_1^\\infty \\frac{\\mathrm{d}x}{x^2} . $$\n",
    "Once again we can perform this integral analytically.\n",
    "Clearly this integral **cannot be performed** using a method like Romberg integration, Newton-Cotes formulas, *etc*., since we cannot evaluate them over an infinite range.\n",
    "Similar to the previous case, if we needed to perform these problematic integrals using those techniques we would need to transform the integral in some way.\n",
    "For this case it is relatively easy to do. If we let $y\\equiv 1/x$ then we can show\n",
    "$$ \\int_1^\\infty \\frac{\\mathrm{d}x}{x^2} = \\int_0^1 \\mathrm{d}y, $$\n",
    "a very simple integral to evaluate!"
   ]
  },
  {
   "cell_type": "markdown",
   "metadata": {},
   "source": [
    "This was a simple case, other integrands may be much more tedious to transform.\n",
    "Once again `quad` can handle the semi-infinite range for us.\n",
    "Use `quad` to perform the integral in its original, semi-infinite form.\n",
    "Print the value of the integral and the fractional error in this value.\n",
    "You should find that `quad` does exceptionally well, almost as if it were using the transformation we just discussed, ....\n",
    "(*Note:* We can specify infinity in a few ways.\n",
    "I will typically use `np.inf` though there also exists `np.infty` which is a little more explicit.)"
   ]
  },
  {
   "cell_type": "code",
   "execution_count": 10,
   "metadata": {
    "deletable": false,
    "nbgrader": {
     "cell_type": "code",
     "checksum": "8006ae0b5ab2b55430042b31b63de53e",
     "grade": true,
     "grade_id": "cell-abd8af4a943a5bdc",
     "locked": false,
     "points": 0.5,
     "schema_version": 3,
     "solution": true
    }
   },
   "outputs": [
    {
     "name": "stdout",
     "output_type": "stream",
     "text": [
      "Value:  1.0\n",
      "Fractional Error:  0.0\n"
     ]
    }
   ],
   "source": [
    "def f(x):\n",
    "    return 1/x**2\n",
    "\n",
    "(res, err, info) = integ.quad(f, 1, np.inf, full_output=True)\n",
    "print(\"Value: \", res)\n",
    "print(\"Fractional Error: \", np.abs(1-res/1))"
   ]
  },
  {
   "attachments": {},
   "cell_type": "markdown",
   "metadata": {},
   "source": [
    "### Infinite Integral Range\n",
    "\n",
    "Finally, `quad` can also handle a completely infinite range.\n",
    "Consider the normalization integral for the Gaussian distribution that we have seen in previous labs,\n",
    "$$ \\frac{1}{\\sqrt{2\\pi}\\sigma} \\int_{-\\infty}^\\infty \\exp\\left[ -\\frac{(x-\\mu)^2}{2\\sigma^2} \\right] \\mathrm{d}x = 1. $$\n",
    "Again we could transform this to integrals over finite ranges.\n",
    "In this case we could use various techniques, first shift the integral to remove the mean, $\\mu$, from the integrand.\n",
    "Then use symmetry to turn it into an integral over the semi-infinite range $(0,\\infty)$.\n",
    "Next split this integral into two pieces, an integral from $0$ to $1$ and an integral from $1$ to $\\infty$.\n",
    "Finally, this second integral can be handled by the transformation discussed in the semi-infinite case above.\n",
    "\n",
    "Or, just let `quad` do it all for us!\n",
    "\n",
    "Calculate this integral over the infinite interval using `quad`.\n",
    "Print its value and fractional error.\n",
    "Note that this result holds for arbitrary mean, $\\mu$, and variance, $\\sigma$; for your own purposes you should try a few cases.\n",
    "Once again you should find (at least in the simplest case of $\\mu=0$ and $\\sigma=0$) it works extremely well!\n",
    "(For other choices of $\\mu$ and $\\sigma$ the error may be larger.\n",
    "You can think about why this makes sense.)"
   ]
  },
  {
   "cell_type": "code",
   "execution_count": 11,
   "metadata": {
    "deletable": false,
    "nbgrader": {
     "cell_type": "code",
     "checksum": "fe2ed09253efa89753eed3b7ed338931",
     "grade": true,
     "grade_id": "cell-401b1d2ef0c40c82",
     "locked": false,
     "points": 0.5,
     "schema_version": 3,
     "solution": true
    }
   },
   "outputs": [
    {
     "name": "stdout",
     "output_type": "stream",
     "text": [
      "Value:  5.013256549262003\n",
      "Fractional Error:  4.440892098500626e-16\n"
     ]
    }
   ],
   "source": [
    "def f(x, mu, sigma):\n",
    "    return np.exp(-(x-mu)**2/(2*sigma**2))\n",
    "\n",
    "sigma=2\n",
    "mu=3\n",
    "\n",
    "true = np.sqrt(2*np.pi)*sigma\n",
    "\n",
    "(res, err, info) = integ.quad(f, -np.inf, np.inf, full_output=True, args=(mu, sigma))\n",
    "print(\"Value: \", res)\n",
    "print(\"Fractional Error: \", np.abs(1-res/true))"
   ]
  },
  {
   "cell_type": "markdown",
   "metadata": {},
   "source": [
    "## Turning in the PreLab\n",
    "\n",
    "All prelabs will be handled as was done for PreLab01. See that file for details. It will be assumed from now on that you have read and understood the procedure and what it means when you submit a prelab."
   ]
  }
 ],
 "metadata": {
  "anaconda-cloud": {},
  "authors": [
   {
    "name": "Craig J Copi",
    "semester": "Spring 2025"
   }
  ],
  "kernelspec": {
   "display_name": "base",
   "language": "python",
   "name": "python3"
  },
  "language_info": {
   "codemirror_mode": {
    "name": "ipython",
    "version": 3
   },
   "file_extension": ".py",
   "mimetype": "text/x-python",
   "name": "python",
   "nbconvert_exporter": "python",
   "pygments_lexer": "ipython3",
   "version": "3.11.5"
  }
 },
 "nbformat": 4,
 "nbformat_minor": 4
}
