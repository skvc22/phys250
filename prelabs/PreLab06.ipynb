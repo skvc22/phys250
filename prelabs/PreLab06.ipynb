{
 "cells": [
  {
   "cell_type": "markdown",
   "metadata": {
    "editable": true,
    "slideshow": {
     "slide_type": ""
    },
    "tags": []
   },
   "source": [
    "# Pre Lab 06 : Problem Solving\n",
    "\n",
    "## Objectives\n",
    "\n",
    "The main objectives of this prelab are to prepare to use notebooks to fully represent the solution to a problem. Here that is broken down into the following steps.\n",
    "\n",
    "- Add documentation to notebooks through the use of `Markdown` and LaTeX.\n",
    "- Writing tests using `assert`.\n",
    "- Implement Jacobian calculation using broadcasting."
   ]
  },
  {
   "cell_type": "markdown",
   "metadata": {},
   "source": [
    "## Initialization\n",
    "\n",
    "As always you should add initialization to the top of your notebook."
   ]
  },
  {
   "cell_type": "code",
   "execution_count": 1,
   "metadata": {
    "deletable": false,
    "nbgrader": {
     "cell_type": "code",
     "checksum": "9a350e48fbfc62011a6e0825b26332dc",
     "grade": true,
     "grade_id": "cell-ecda389af0994d91",
     "locked": false,
     "points": 0,
     "schema_version": 3,
     "solution": true
    }
   },
   "outputs": [],
   "source": [
    "import numpy as np\n",
    "import matplotlib.pyplot as plt\n",
    "import scipy.interpolate as interp\n",
    "import scipy.optimize as opt\n",
    "import scipy.special as sf\n",
    "import scipy.integrate as integ\n",
    "\n",
    "import matplotlib as mpl\n",
    "mpl.rc('xtick', direction='in', top=True)\n",
    "mpl.rc('ytick', direction='in', right=True)\n",
    "mpl.rc('xtick.minor', visible=True)\n",
    "mpl.rc('ytick.minor', visible=True)"
   ]
  },
  {
   "attachments": {},
   "cell_type": "markdown",
   "metadata": {},
   "source": [
    "## Documentation using LaTeX and `Markdown`\n",
    "\n",
    "A notebook is a complete document; it includes both documentation and code in a single file. Writing good, clear documentation is an important step in solving a problem. Here and in the lab we will get some practice in documenting our code. Rich, nicely formatted documentation is provided in the notebook through the use of LaTeX and `Markdown`. We will expand our knowledge of LaTeX and get an introduction to `Markdown` in this prelab.\n",
    "\n",
    "### LaTeX\n",
    "\n",
    "Scientific work involves equations and as we have seen the best tool to typeset equations is LaTeX. The implementation of LaTeX used by the notebook is through MathJax and is **not** a complete LaTeX implementation. However, most of the important aspects of LaTeX have been implemented, though not every example you may find online will work.\n",
    "\n",
    "Technical writing follows most of the rules you have learned for writing papers in other classes. One issue you have may not have encountered is how to deal with mathematical expressions and equations. In general these should be treated just like all other parts of speech. They should flow nicely in your discourse and should be punctuated as any other part of speech. The examples, prelabs, labs, and homework should serve as examples of how to include equations in documentation.\n",
    "\n",
    "Here we will cover a few other aspects of LaTeX. In general, LaTeX commands are preceded by a backslash ('`\\`'). Many commands can be \"guessed\" by using this rule. Also recall that text that is to be typeset by LaTeX is surrounding by dollar characters (`$`). Finally, remember that any `Markdown` cell can be viewed by double clicking on the cell or hitting `Enter` while the cell is selected. This can be used to see how all the cells in this and other documents have been written to get the formatted text you see."
   ]
  },
  {
   "cell_type": "markdown",
   "metadata": {},
   "source": [
    "#### Greek Letters\n",
    "\n",
    "Most Greek letters can be accessed by typing out the letter name preceded by a backslash. To get the capital Greek letters just capitalize the name. (This is true for all capitals that are different than their Roman versions. There is no special command for a capital $\\alpha$ since it is just give by $A$. The same is true for a number of other Greek letters.) As an example\n",
    " - `$\\gamma$` produces $\\gamma$,\n",
    " - `$\\Gamma$` produces $\\Gamma$.\n",
    "\n",
    "Try entering some other Greek letters."
   ]
  },
  {
   "cell_type": "markdown",
   "metadata": {
    "deletable": false,
    "nbgrader": {
     "cell_type": "markdown",
     "checksum": "de44d377bd4452b74c4fb0a4af0580a4",
     "grade": true,
     "grade_id": "cell-1eb7acab124e4f6a",
     "locked": false,
     "points": 0.1,
     "schema_version": 3,
     "solution": true,
     "task": false
    }
   },
   "source": [
    "$\\Alpha~\\alpha$\n",
    "\n",
    "$\\Beta~\\beta$\n",
    "\n",
    "$\\Gamma~\\gamma$\n",
    "\n",
    "$\\Delta~\\delta$"
   ]
  },
  {
   "cell_type": "markdown",
   "metadata": {},
   "source": [
    "#### Some special functions\n",
    "\n",
    "Trigonometric and many other special function names can and should be preceded by a backslash to typeset them correctly. For example:\n",
    "\n",
    " - `$\\cos(\\theta)$` produces $\\cos(\\theta)$\n",
    "\n",
    "Similarly square roots can be typeset as\n",
    "\n",
    " - `$\\sqrt{\\pi^{3x}}$` which produces $\\sqrt{\\pi^{3x}}$\n",
    "\n",
    "Type out some trigonometric identity (or some other equation that uses trig functions)."
   ]
  },
  {
   "cell_type": "markdown",
   "metadata": {
    "deletable": false,
    "nbgrader": {
     "cell_type": "markdown",
     "checksum": "c2ba3c65718f07f918f45329381c3bb0",
     "grade": true,
     "grade_id": "cell-57d520442de19b91",
     "locked": false,
     "points": 0.1,
     "schema_version": 3,
     "solution": true,
     "task": false
    }
   },
   "source": [
    "$$\\sin(\\theta)=\\sqrt{1-\\cos^2(\\theta)}"
   ]
  },
  {
   "attachments": {},
   "cell_type": "markdown",
   "metadata": {},
   "source": [
    "#### Inlined versus Displayed equations\n",
    "\n",
    "So far we have been talking about inlined equations, that is, small equations that appear within a sentence. We can also set equations apart in what is called display style. This is useful for larger or more important equations. To write an equation in display style we surround it by double dollar characters (`$$`) instead of single ones. This is particularly good when we have fractions, integrals, and sums. We will see some examples below.\n",
    "\n",
    "#### Sums and Integrals\n",
    "\n",
    "Some operators have limits, such as sums and integrals. These are entered just like we did for subscripts (for the lower limit) and superscripts (for the upper limit) before. For example, the sum we saw in a previous prelab can be written as \n",
    "\n",
    "- `$\\sum_{j=1}^{N} j = \\frac{N(N+1)}{2}$` which produces $\\sum_{j=1}^{N} j = \\frac{N(N+1)}{2}$ when inlined, or as\n",
    "- `$$\\sum_{j=1}^{N} j = \\frac{N(N+1)}{2}$$` which produces\n",
    "$$\\sum_{j=1}^{N} j = \\frac{N(N+1)}{2}$$\n",
    "when shown in display style.\n",
    "\n",
    "#### Autoscaling Delimiters\n",
    "\n",
    "Equations use all types of delimiters to group expressions. We will consider parentheses, `()`, brackets `[]`, and braces `{}`. (Note that braces must be escaped by a backslash in LaTeX so the open brace would be entered as `\\{`). There are a few others that can be used but these are enough for now. If we have many nested delimiters or particularly large expressions inside such delimiters then using the normal sized versions would look bad. LaTeX will automatically scale delimiters when they are used with the `\\left` and `\\right` commands. Note that every `\\left` **must** have an accompanying `\\right`, though the delimiter following the `\\left` need not be the same as that following the `\\right`. As one example a part of an equation from Lab 2 can be written as\n",
    "\n",
    "- `$$ \\frac{\\tau}{2\\pi} \\left[ 2\\tan^{-1} \\left( \\sqrt{ \\frac{1-e}{1+e} } \\tan\\frac{\\theta}{2} \\right) \\right] $$` which produces\n",
    "$$ \\frac{\\tau}{2\\pi} \\left[ 2\\tan^{-1} \\left( \\sqrt{ \\frac{1-e}{1+e}} \\tan\\frac{\\theta}{2} \\right) \\right] $$\n",
    "\n",
    "#### And Much, Much More\n",
    "\n",
    "There is much, much more that can be done. It is again recommended that you look through the notebooks written for this course to see other examples. For example, in these documents you will see how to write a system of equations using `\\begin{align} ... \\end{align}`. The general format is\n",
    "```\n",
    "\\begin{align}\n",
    "  LHS1 &= RHS1, \\\\\n",
    "  LHS2 &= RHS2, \\\\\n",
    "  LHS3 &= RHS3,\n",
    "\\end{align}\n",
    "```\n",
    "(notice how all but the last line is ended by `\\\\`). The equations will be aligned on the location of the `&`. You will have an opportunity to use this in future labs.\n",
    "\n",
    "You will also see some technical details. For example, certain quantities really should be typeset in a Roman font instead of a math font. This is true for special numbers, such as $\\mathrm{e}$, and operators such as the derivative. You will see `\\mathrm{}` used in many cases because of this.\n",
    "\n",
    "Typeset some system of equations below using the `align` environment."
   ]
  },
  {
   "cell_type": "markdown",
   "metadata": {
    "deletable": false,
    "nbgrader": {
     "cell_type": "markdown",
     "checksum": "53904b0bbd49e8805caf72ef4dc3dec6",
     "grade": true,
     "grade_id": "cell-975d3e4488989607",
     "locked": false,
     "points": 0.2,
     "schema_version": 3,
     "solution": true,
     "task": false
    }
   },
   "source": [
    "$$ \\begin{align}\n",
    "  5x+3y-z &= 7, \\\\\n",
    "  y+11z &= 4, \\\\\n",
    "  x-22y+6z &= 15,\n",
    "\\end{align}"
   ]
  },
  {
   "cell_type": "markdown",
   "metadata": {},
   "source": [
    "Typeset your favorite equation."
   ]
  },
  {
   "cell_type": "markdown",
   "metadata": {
    "deletable": false,
    "nbgrader": {
     "cell_type": "markdown",
     "checksum": "7f385cec5c141ce567fcd8a6396e937e",
     "grade": true,
     "grade_id": "cell-5d03be13bd6499a8",
     "locked": false,
     "points": 0.1,
     "schema_version": 3,
     "solution": true,
     "task": false
    }
   },
   "source": [
    "$$M_{\\mathrm{limit}}=\\frac{\\omega_3^0 \\sqrt{3\\pi}}{2}\\left(\\frac{\\hbar c}{G}\\right)^{\\frac{3}{2}}\\frac{1}{(\\mu_c m_\\mathrm{H})^2}"
   ]
  },
  {
   "cell_type": "markdown",
   "metadata": {},
   "source": [
    "#### LaTeX in Figures\n",
    "\n",
    "As a final detail note that you *can* use LaTeX in figures. It can appear in axis labels, the title, and in the legend. Unfortunately the backslash character is used to mean many things. In a string it is also used as an \"escape\" character. This means if you create two strings as\n",
    "\n",
    "```\n",
    "str1 = \"$\\cos(x)$\"\n",
    "str2 = \"$\\theta(x)$\"\n",
    "```\n",
    "and then print them using the print function (not just having the notebook show you the value of the variable, but actually use the print function) you will find something strange happens for `str2`. (Try it!) The reason for this is that `\\t` is interpreted as the `Tab` character.\n",
    "\n",
    "To get around this you can either \"escape the backslash\" by using two backslashes everywhere that one appears or by creating a raw string. I prefer the latter, so I would write\n",
    "```\n",
    "str2 = r\"$\\theta(x)$\"\n",
    "```\n",
    "Notice the `r` before the opening quote. You can use this when setting the axis labels, the title, or for labeling curves when using `plot`. Finally, you can mix raw strings with f-strings by including both `f` and `r`, though you will need to be careful with braces, sometimes they will need to be doubled."
   ]
  },
  {
   "cell_type": "markdown",
   "metadata": {},
   "source": [
    "### Markdown\n",
    "\n",
    "The rest of the formatting in a `Markdown` cell is typeset using, not surprisingly, `Markdown`. `Markdown` is a relatively simple typesetting language that supports making text italic and bold, lists, tables, code blocks, links, and more. You can even use HTML (with styling) in a `Markdown` cell. If you have ever edited a wiki article the syntax will look quite familiar. `Markdown` references are available in many places on the web. Documentation is also available from the `Help` menu above which takes you to a page that describes the differences between `Markdown` as implemented in the notebook (which is \"github flavored\") and standard `Markdown`. There is also a link on that page to a more general introduction. Another source of information on `Markdown` can be found at http://daringfireball.net/projects/markdown/syntax.\n",
    "\n",
    "Again, there are many, many examples of using `Markdown` features in all the notebooks available for this course so we will not go through specific cases. You should look through the documentation and the available notebooks to familiarize yourself with its usage."
   ]
  },
  {
   "cell_type": "markdown",
   "metadata": {},
   "source": [
    "### Testing Results\n",
    "\n",
    "As we have occasionally seen, it is always necessary to test our code. It is best to have physical test cases that can be explored analytically and independent of the written code. The code can then be run based on these test cases and the output compared to known results. Embedding test cases in your notebook is the best way to ensure that any future changes, no matter how trivial you think they are, do not introduce errors. Here we will explore embedding tests in a very simple way, using `assert`. There are other methods for doing this, including whole test suite creation mechanisms often used in larger projects. We will stick with the simplest method here.\n",
    "\n",
    "We have seen the use of `assert` earlier in the semester. It is a simple Python function that does nothing if the argument given to it is `True` and raises an exception if it is `False`. Here we will want to use it to compare two arrays of numerical values. For definiteness let us call the two arrays `arr1` and `arr2`.\n",
    "\n",
    "We already know that comparing two floating point numbers is non-trivial. Even testing just one element doing something like\n",
    "```\n",
    " arr1[0] == arr2[0]\n",
    "```\n",
    "is incorrect. We know that we should test if the two floating point numbers are close to each other, for some definition of \"close\". This is handled for us, and works with arrays too, using `np.allclose`. When you look up the documentation you will see that it includes both a relative and absolute tolerance for the comparison.\n",
    "\n",
    "We can couple this with `assert` to quickly verify that two arrays are equal. A common idiom then is\n",
    "```\n",
    "assert(np.allclose(arr1, arr2))\n",
    "```\n",
    "This will \"do nothing\" when the two arrays are \"close\", but raise an exception when they are not."
   ]
  },
  {
   "cell_type": "markdown",
   "metadata": {},
   "source": [
    "Let us use these ideas. As we first saw in Lab00, we can construct arrays using `np.arange` and `np.linspace`. Construct two arrays each containing values from 0 to 1 (including 1) in steps of 0.1. Construct one using `np.arange` and the other using `np.linspace`. Finally, use `assert` to show that they are the same. (*Note:* It is useful to get this wrong at least once to see what happens when the assertion is not true!)"
   ]
  },
  {
   "cell_type": "code",
   "execution_count": 2,
   "metadata": {
    "deletable": false,
    "nbgrader": {
     "cell_type": "code",
     "checksum": "05b3046e4c9613bd0c296319fabb1e21",
     "grade": true,
     "grade_id": "cell-64b87929fdd36875",
     "locked": false,
     "points": 0.2,
     "schema_version": 3,
     "solution": true,
     "task": false
    }
   },
   "outputs": [],
   "source": [
    "arr1=np.arange(0,1.1,.1)\n",
    "arr2=np.linspace(0,1,11)\n",
    "\n",
    "assert(np.allclose(arr1, arr2))"
   ]
  },
  {
   "cell_type": "markdown",
   "metadata": {},
   "source": [
    "## Jacobian Matrix\n",
    "\n",
    "For a system of functions of many variables, $\\vec{f}(\\vec x)$, we have seen that the Jacobian matrix, $\\mathsf{J}_{\\vec{f}}(\\vec{x})$ can be written as\n",
    "$$\n",
    "\\mathsf{J}_{\\vec{f}} (\\vec{x}) = \\begin{pmatrix}\n",
    "\\frac{\\partial f_1}{\\partial x_1} & \\frac{\\partial f_1}{\\partial x_2} & \\cdots \\\\\n",
    "\\frac{\\partial f_2}{\\partial x_1} & \\frac{\\partial f_2}{\\partial x_2} & \\cdots \\\\\n",
    "\\vdots & \\vdots & \\ddots\n",
    "\\end{pmatrix},\n",
    "$$\n",
    "or in other words the components are just\n",
    "$$ J_{ij}(\\vec{x}) = \\frac{\\partial f_i(\\vec{x})}{\\partial x_j}. $$\n",
    "\n",
    "Here we will construct this matrix both analytically and numerically."
   ]
  },
  {
   "attachments": {},
   "cell_type": "markdown",
   "metadata": {},
   "source": [
    "### Simple System\n",
    "\n",
    "As a simple example let us consider two functions:\n",
    "\\begin{align}\n",
    "  f_1(\\vec{x}) & = x_1 \\sin(x_2), \\\\\n",
    "  f_2(\\vec{x}) & = 2 x_2 \\cos^2(x_1) .\n",
    "\\end{align}\n",
    "\n",
    "Analytically calculate the Jacobian matrix and write it using LaTeX below. (*Hint:* See the cell above for a simply way to typeset a matrix in LaTeX.)"
   ]
  },
  {
   "cell_type": "markdown",
   "metadata": {
    "deletable": false,
    "nbgrader": {
     "cell_type": "markdown",
     "checksum": "7840321c9463c1d68e9289c6b6aae803",
     "grade": true,
     "grade_id": "cell-8a7b85882f57ea7e",
     "locked": false,
     "points": 0.25,
     "schema_version": 3,
     "solution": true,
     "task": false
    }
   },
   "source": [
    "$$ \\mathsf{J}_{\\vec{f}} (\\vec{x}) = \\begin{pmatrix}\n",
    "\\sin(x_2) & x_1\\cos(x_2) \\\\\n",
    "-4x_2\\cos(x_1)\\sin(x_1) & 2\\cos^2(x_1)\n",
    "\\end{pmatrix}"
   ]
  },
  {
   "cell_type": "markdown",
   "metadata": {},
   "source": [
    "Write a Python function that calculates the Jacobian matrix and returns it as a two dimensional NumPy array. Your function must be of the form\n",
    "```\n",
    "def Jacobian_analytic(x):\n",
    "```\n",
    "where `x` will be a two component array. It must return a $2\\times 2$ `numpy` array."
   ]
  },
  {
   "cell_type": "code",
   "execution_count": 3,
   "metadata": {
    "deletable": false,
    "nbgrader": {
     "cell_type": "code",
     "checksum": "0902eebc223d2a591d4ff575a62714d8",
     "grade": false,
     "grade_id": "cell-9eff3b271fde5ce1",
     "locked": false,
     "schema_version": 3,
     "solution": true
    }
   },
   "outputs": [],
   "source": [
    "def Jacobian_analytic(x):\n",
    "    \"\"\"Returns the Jacobian of the functions defined above.\"\"\"\n",
    "    J = np.zeros((2,2))\n",
    "    J[0,0] = np.sin(x[1])\n",
    "    J[0,1] = x[0]*np.cos(x[1])\n",
    "    J[1,0] = -4*x[1]*np.cos(x[0])*np.sin(x[0])\n",
    "    J[1,1] = 2*(np.cos(x[0])**2)\n",
    "    return J"
   ]
  },
  {
   "cell_type": "code",
   "execution_count": 4,
   "metadata": {
    "deletable": false,
    "editable": false,
    "nbgrader": {
     "cell_type": "code",
     "checksum": "696e87af2d9e4370b74908bc78dee8b9",
     "grade": true,
     "grade_id": "cell-a49a079f1dfd345e",
     "locked": true,
     "points": 0.25,
     "schema_version": 3,
     "solution": false
    }
   },
   "outputs": [],
   "source": [
    "# DO NOT REMOVE THIS CELL\n",
    "# This cell is used during grading."
   ]
  },
  {
   "cell_type": "markdown",
   "metadata": {},
   "source": [
    "For simple choices of $x_1$ and $x_2$, write a test case for your function `Jacobian_analytic`."
   ]
  },
  {
   "cell_type": "code",
   "execution_count": 5,
   "metadata": {
    "deletable": false,
    "nbgrader": {
     "cell_type": "code",
     "checksum": "d21cca1143fe40577f3d769276a17573",
     "grade": true,
     "grade_id": "cell-1f6b35108ef4d3d6",
     "locked": false,
     "points": 0.2,
     "schema_version": 3,
     "solution": true,
     "task": false
    }
   },
   "outputs": [],
   "source": [
    "x=np.array([np.pi/2,0])\n",
    "j=Jacobian_analytic(x)\n",
    "\n",
    "expected=np.array([[0,np.pi/2],[0,0]])\n",
    "assert(np.allclose(j,expected))"
   ]
  },
  {
   "attachments": {},
   "cell_type": "markdown",
   "metadata": {},
   "source": [
    "### Numerical Jacobian Matrix\n",
    "\n",
    "We can also calculate the Jacobian matrix by calculating the derivatives of the functions numerically. Here we will use center differencing to calculate the derivatives (in many libraries forward differencing is used for this purpose).\n",
    "\n",
    "To begin, write a function that evaluates our system of functions. This function must work on a two dimensional array of input values of shape $(2, N)$. Verify that if you pass in a $(2, N)$ array, it returns a $(2,N)$ array. (Here we are only testing the shape of the returned array, not its values.)"
   ]
  },
  {
   "cell_type": "code",
   "execution_count": 6,
   "metadata": {
    "deletable": false,
    "nbgrader": {
     "cell_type": "code",
     "checksum": "4800221b5fe9720ac2de2dd0ea12157e",
     "grade": true,
     "grade_id": "cell-ed7b8a53c4dd9e09",
     "locked": false,
     "points": 0.5,
     "schema_version": 3,
     "solution": true,
     "task": false
    }
   },
   "outputs": [],
   "source": [
    "def funcs(x):\n",
    "    f1 = x[0]*np.sin(x[1])\n",
    "    f2 = 2*x[1]*np.cos(x[0])**2\n",
    "    \n",
    "    return np.array([f1, f2])\n",
    "\n",
    "N=7\n",
    "shape=(2,N)\n",
    "a=np.random.random(shape)\n",
    "assert(np.shape(funcs(a))==shape)"
   ]
  },
  {
   "attachments": {},
   "cell_type": "markdown",
   "metadata": {},
   "source": [
    "We know how to calculate the derivative using center differencing for a single function of one variable. How do we do it for many functions of many variables? Here we can use **broadcasting** to help us. In our case we will use a step size $h_1=1\\times 10^{-5}$ to calculate derivatives with respect to $x_1$ and $h_2=5\\times 10^{-6}$ to calculate derivatives with respect to $x_2$.\n",
    "\n",
    "For the case we are considering here, in the Jacobian matrix we need to calculate four different derivatives. In each derivative we only want to change one of the $x_i$ using the associated $h_i$. How can we do this without a loop?\n",
    "\n",
    "To see how to do this, let us begin by calculating the first column of the Jacobian matrix. Here we are taking derivatives of both of our functions with respect to $x_1$ only. We know how to do that using center differencing. In this case we can let\n",
    "```\n",
    "h = np.array([1e-5, 0])\n",
    "```\n",
    "then `x+h` and `x-h` will *do the right thing* and only change $x_1$, not $x_2$. (Recall that we should not use $h$ as we have written it. Numerically we want to have an \"exact\" $h$. We have seen how to do this a number of times. How do we do that? What should we actually use as `h` in our code?)\n",
    "\n",
    "Numerically calculate the first column of the Jacobian matrix using center differencing. Use `assert` to verify that your results are in good agreement with the first column of your analytic Jacobian. For this test use $x_1=\\pi/8$ and $x_2=7\\pi/13$."
   ]
  },
  {
   "cell_type": "code",
   "execution_count": 7,
   "metadata": {
    "deletable": false,
    "nbgrader": {
     "cell_type": "code",
     "checksum": "f6e9f4bfd232df2a76a879b4df2e38c1",
     "grade": true,
     "grade_id": "cell-4c923756a3552867",
     "locked": false,
     "points": 0.5,
     "schema_version": 3,
     "solution": true,
     "task": false
    }
   },
   "outputs": [],
   "source": [
    "x=np.array([[np.pi/8], [7*np.pi/13]])\n",
    "\n",
    "eps=.01\n",
    "h=np.array([1e-5, 0]).reshape(2,1)\n",
    "h+=eps\n",
    "h-=eps\n",
    "\n",
    "assert(np.allclose((funcs(x+h)-funcs(x-h))/(2*h[0][0]), Jacobian_analytic(x)[:,0].reshape(2,1)))"
   ]
  },
  {
   "attachments": {},
   "cell_type": "markdown",
   "metadata": {},
   "source": [
    "Next we will calculate the full Jacobian matrix using broadcasting. Here is how we can do it.\n",
    "\n",
    "Let `h` be a one dimensional array containing $h_1$ and $h_2$. From this we can construct a diagonal matrix with each value of `h` on the diagonal using `np.diag(h)`. Then we can add (or subtract) this from `x` to get one of $x_1$ or $x_2$ shifted by the appropriate $h_i$ in a $2\\times2$ array. Finally, we can feed this to `funcs` to evaluate our system of functions as the appropriate points and use this to calculate the derivatives using center differencing and ultimately construct the Jacobian.\n",
    "\n",
    "All of that sounds confusing. Here is where using an interactive, interpreted language is great: we can test and explore each step. Begin by constructing the `h` array. Then turn it into a two dimensional array. Add (or subtract) it from `x`, what does that look like? Pass this result to `funcs`, what does it look like? Are they in the right order for the Jacobian? Finally calculate the numerical derivatives. We can compare them to our analytic Jacobian. Of course everything is not going to work smoothly. Some things will not be in the right place. That is fine, we know how to swap rows and columns using the transpose!\n",
    "\n",
    "Numerically calculate the Jacobian using center differencing. Call it `J`. We will next want to compare it to `Jacobian_analytic` so you should make sure your `J` is ordered the same way as you get from `Jacobian_analytic`."
   ]
  },
  {
   "cell_type": "code",
   "execution_count": 8,
   "metadata": {
    "deletable": false,
    "nbgrader": {
     "cell_type": "code",
     "checksum": "0b1804aee7446caac3beb3277fb72e53",
     "grade": true,
     "grade_id": "cell-59e11ffc8777c718",
     "locked": false,
     "points": 0.1,
     "schema_version": 3,
     "solution": true,
     "task": false
    }
   },
   "outputs": [
    {
     "name": "stdout",
     "output_type": "stream",
     "text": [
      "[[ 0.99270887 -0.04733464]\n",
      " [-2.39232158  1.70710678]] \n",
      "\n",
      " [[ 0.99270887 -0.04733464]\n",
      " [-2.39232158  1.70710678]]\n"
     ]
    }
   ],
   "source": [
    "h=[1e-5, 5e-6]\n",
    "h=np.diag(h)\n",
    "eps=.01\n",
    "h+=eps\n",
    "h-=eps\n",
    "J=(funcs(x+h)-funcs(x-h))/(2*np.diag(h))\n",
    "print(Jacobian_analytic(x), '\\n\\n', J)"
   ]
  },
  {
   "cell_type": "markdown",
   "metadata": {},
   "source": [
    "Write a test using `assert` to verify that your `J` agrees with your `Jacobian_analytic`."
   ]
  },
  {
   "cell_type": "code",
   "execution_count": 9,
   "metadata": {
    "deletable": false,
    "nbgrader": {
     "cell_type": "code",
     "checksum": "5ee6e9dabaf2581594c1c0a4e2429046",
     "grade": true,
     "grade_id": "cell-e804d293c042642d",
     "locked": false,
     "points": 0.5,
     "schema_version": 3,
     "solution": true,
     "task": false
    }
   },
   "outputs": [],
   "source": [
    "assert(np.allclose(J, Jacobian_analytic(x)))"
   ]
  },
  {
   "cell_type": "markdown",
   "metadata": {},
   "source": [
    "We are finally going to want to write a function to do the work for us.\n",
    "\n",
    "Define a function to numerically calculate the Jacobian matrix using center differencing. This function takes as input a function `f` which evaluates the system of functions, an array `x` which is the point at which we are evaluating the Jacobian, and an array `h` which are the step sizes to use for calculating the derivatives. Do not forget to document your function!\n",
    "\n",
    "(Notice that we do not include a method for passing in extra arguments to our function, `f`. We know how we could do this. Alternatively, since it is not provided, we know how to work around this when calling `Jacobian` by using a `lambda` function if `f` did require extra arguments! We will include extra arguments in the lab.)"
   ]
  },
  {
   "cell_type": "code",
   "execution_count": 10,
   "metadata": {
    "deletable": false,
    "nbgrader": {
     "cell_type": "code",
     "checksum": "efda23e0d4bf23cee481863de8d6591f",
     "grade": false,
     "grade_id": "cell-ee0fba58f4ed661a",
     "locked": false,
     "schema_version": 3,
     "solution": true
    }
   },
   "outputs": [
    {
     "data": {
      "text/plain": [
       "array([[ 0.99270887, -0.04733464],\n",
       "       [-2.39232158,  1.70710678]])"
      ]
     },
     "execution_count": 10,
     "metadata": {},
     "output_type": "execute_result"
    }
   ],
   "source": [
    "def Jacobian(f, x, h):\n",
    "    \"\"\"Numerically compute the Jacobian matrix of a given system\n",
    "    of multivariable functions using center differencing.\n",
    "    Inputs:\n",
    "      f: a Python function which evaluates the mathematical\n",
    "          functions of which we want the Jacobian.\n",
    "      x: an array of inputs for the functions, where x[0]=x_1, etc. \n",
    "      h: an array of step sizes to be used in center differencing, \n",
    "          where h[0] is the step size for the first function in \n",
    "          the system, etc.  \n",
    "    Outputs: \n",
    "      J: the Jacobian matrix of the given functions at the given\n",
    "          inputs. \n",
    "    \"\"\"\n",
    "    #diagonalize the h array and ensure h is exactly defined\n",
    "    h=np.diag(h)\n",
    "    eps=.01\n",
    "    h+=eps\n",
    "    h-=eps\n",
    "\n",
    "    #compute the Jacobian\n",
    "    J=(f(x+h)-f(x-h))/(2*np.diag(h))\n",
    "    return J\n",
    "\n",
    "h=[1e-5, 5e-6]\n",
    "Jacobian(funcs, x, h)"
   ]
  },
  {
   "cell_type": "code",
   "execution_count": 11,
   "metadata": {
    "deletable": false,
    "editable": false,
    "nbgrader": {
     "cell_type": "code",
     "checksum": "64566df276f0e3e56dd96de5ef2e1ea3",
     "grade": true,
     "grade_id": "cell-3c7174587affcb74",
     "locked": true,
     "points": 0.5,
     "schema_version": 3,
     "solution": false
    }
   },
   "outputs": [],
   "source": [
    "# DO NOT REMOVE THIS CELL\n",
    "# This cell is used during grading."
   ]
  },
  {
   "cell_type": "markdown",
   "metadata": {},
   "source": [
    "Finally, test your Jacobian function using `assert` by verifying that the numerical function produces the same result as the analytic function for some choice of `x` and `h`. (Using the example from above is fine, though you can and should do multiple tests.)"
   ]
  },
  {
   "cell_type": "code",
   "execution_count": 12,
   "metadata": {
    "deletable": false,
    "nbgrader": {
     "cell_type": "code",
     "checksum": "4e2eb6ebe2731f40a6c683f005ea41fb",
     "grade": true,
     "grade_id": "cell-f1fc608dbfebf4b4",
     "locked": false,
     "points": 0.5,
     "schema_version": 3,
     "solution": true,
     "task": false
    }
   },
   "outputs": [],
   "source": [
    "assert(np.allclose(Jacobian(funcs, x, h), Jacobian_analytic(x)))\n",
    "\n",
    "y=np.array([[np.pi/4], [np.sqrt(3)*np.pi/3]])\n",
    "hy=[1e-6, 3e-7]\n",
    "assert(np.allclose(Jacobian(funcs, y, hy), Jacobian_analytic(y)))"
   ]
  },
  {
   "cell_type": "markdown",
   "metadata": {
    "editable": true,
    "slideshow": {
     "slide_type": ""
    },
    "tags": []
   },
   "source": [
    "## Turning in the PreLab\n",
    "\n",
    "All prelabs will be handled as was done for PreLab01. See that file for details. It will be assumed from now on that you have read and understood the procedure and what it means when you submit a prelab."
   ]
  }
 ],
 "metadata": {
  "anaconda-cloud": {},
  "authors": [
   {
    "name": "Craig J Copi",
    "semester": "Spring 2025"
   }
  ],
  "kernelspec": {
   "display_name": "base",
   "language": "python",
   "name": "python3"
  },
  "language_info": {
   "codemirror_mode": {
    "name": "ipython",
    "version": 3
   },
   "file_extension": ".py",
   "mimetype": "text/x-python",
   "name": "python",
   "nbconvert_exporter": "python",
   "pygments_lexer": "ipython3",
   "version": "3.11.5"
  }
 },
 "nbformat": 4,
 "nbformat_minor": 4
}
